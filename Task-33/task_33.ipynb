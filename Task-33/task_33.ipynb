{
  "nbformat": 4,
  "nbformat_minor": 0,
  "metadata": {
    "colab": {
      "provenance": []
    },
    "kernelspec": {
      "name": "python3",
      "display_name": "Python 3"
    },
    "language_info": {
      "name": "python"
    }
  },
  "cells": [
    {
      "cell_type": "markdown",
      "source": [
        "# Task 33-> Neural Networks Basics (Perceptron, Activation Functions)\n",
        "Submitted by: Awais Anwer"
      ],
      "metadata": {
        "id": "NL3vpMbii9H2"
      }
    },
    {
      "cell_type": "code",
      "source": [
        "import numpy as np\n",
        "from sklearn.datasets import fetch_california_housing\n",
        "from sklearn.model_selection import train_test_split\n",
        "from sklearn.preprocessing import StandardScaler"
      ],
      "metadata": {
        "id": "Ia-z9u6hlj53"
      },
      "execution_count": 15,
      "outputs": []
    },
    {
      "cell_type": "code",
      "source": [
        "# ReLU activation function\n",
        "def relu(x):\n",
        "    return np.maximum(0, x)\n",
        "\n",
        "# Derivative of ReLU\n",
        "def relu_derivative(x):\n",
        "    return np.where(x > 0, 1, 0)"
      ],
      "metadata": {
        "id": "g-X6hIdHJbgV"
      },
      "execution_count": 2,
      "outputs": []
    },
    {
      "cell_type": "code",
      "source": [
        "# Mean Squared Error loss function\n",
        "def mean_squared_error(y_true, y_pred):\n",
        "    return np.mean((y_true - y_pred) ** 2)"
      ],
      "metadata": {
        "id": "6yLomh8dJfME"
      },
      "execution_count": 3,
      "outputs": []
    },
    {
      "cell_type": "code",
      "source": [
        "# Initialize parameters\n",
        "def initialize_parameters(input_size, hidden_size, output_size):\n",
        "    np.random.seed(42)\n",
        "    W1 = np.random.randn(input_size, hidden_size) * 0.01\n",
        "    b1 = np.zeros((1, hidden_size))\n",
        "    W2 = np.random.randn(hidden_size, output_size) * 0.01\n",
        "    b2 = np.zeros((1, output_size))\n",
        "    return W1, b1, W2, b2"
      ],
      "metadata": {
        "id": "Gv4YQX_eJkCS"
      },
      "execution_count": 4,
      "outputs": []
    },
    {
      "cell_type": "code",
      "source": [
        "# forward propagation\n",
        "def forward(X, W1, b1, W2, b2):\n",
        "    z1 = np.dot(X, W1) + b1\n",
        "    a1 = relu(z1)\n",
        "    z2 = np.dot(a1, W2) + b2\n",
        "    a2 = z2 # linear for output\n",
        "    return z1, a1, z2, a2"
      ],
      "metadata": {
        "id": "qUsqBRgMJzXo"
      },
      "execution_count": 6,
      "outputs": []
    },
    {
      "cell_type": "code",
      "source": [
        "# backward propagation\n",
        "def backward(X, y, z1, a1, z2, a2, W1, W2):\n",
        "    m = y.shape[0]\n",
        "\n",
        "    dL_dz2 = (a2 - y) / m\n",
        "    dL_dW2 = np.dot(a1.T, dL_dz2)\n",
        "    dL_db2 = np.sum(dL_dz2, axis=0, keepdims=True)\n",
        "\n",
        "    dL_dz1 = np.dot(dL_dz2, W2.T) * relu_derivative(z1)\n",
        "    dL_dW1 = np.dot(X.T, dL_dz1)\n",
        "    dL_db1 = np.sum(dL_dz1, axis=0, keepdims=True)\n",
        "\n",
        "    return dL_dW1, dL_db1, dL_dW2, dL_db2"
      ],
      "metadata": {
        "id": "XneDwSaMJzCb"
      },
      "execution_count": 7,
      "outputs": []
    },
    {
      "cell_type": "code",
      "source": [
        "def update_parameters(W1, b1, W2, b2, dL_dW1, dL_db1, dL_dW2, dL_db2, learning_rate):\n",
        "    W1 -= learning_rate * dL_dW1\n",
        "    b1 -= learning_rate * dL_db1\n",
        "    W2 -= learning_rate * dL_dW2\n",
        "    b2 -= learning_rate * dL_db2\n",
        "    return W1, b1, W2, b2"
      ],
      "metadata": {
        "id": "WAf08tFbKNFs"
      },
      "execution_count": 8,
      "outputs": []
    },
    {
      "cell_type": "code",
      "source": [
        "# Training function\n",
        "def train(X, y, input_size, hidden_size, output_size, learning_rate=0.01, epochs=1000):\n",
        "    W1, b1, W2, b2 = initialize_parameters(input_size, hidden_size, output_size)\n",
        "\n",
        "    for epoch in range(epochs):\n",
        "        # Forward pass\n",
        "        z1, a1, z2, a2 = forward(X, W1, b1, W2, b2)\n",
        "\n",
        "        # Compute loss\n",
        "        loss = mean_squared_error(y, a2)\n",
        "\n",
        "        # Backward propagation\n",
        "        dL_dW1, dL_db1, dL_dW2, dL_db2 = backward(X, y, z1, a1, z2, a2, W1, W2)\n",
        "\n",
        "        # Update parameters\n",
        "        W1, b1, W2, b2 = update_parameters(W1, b1, W2, b2, dL_dW1, dL_db1, dL_dW2, dL_db2, learning_rate)\n",
        "\n",
        "        if epoch % 100 == 0:\n",
        "            print(f'Epoch {epoch}, Loss: {loss}')\n",
        "\n",
        "    return W1, b1, W2, b2"
      ],
      "metadata": {
        "id": "yBXbpuwhKTT7"
      },
      "execution_count": 9,
      "outputs": []
    },
    {
      "cell_type": "code",
      "source": [
        "# Load the dataset\n",
        "cali_housing = fetch_california_housing()\n",
        "X = cali_housing.data\n",
        "y = cali_housing.target.reshape(-1, 1) #column vector"
      ],
      "metadata": {
        "id": "4F4TkguZKknU"
      },
      "execution_count": 10,
      "outputs": []
    },
    {
      "cell_type": "code",
      "source": [
        "X_train, X_test, y_train, y_test = train_test_split(X, y, test_size=0.2, random_state=42)\n",
        "\n",
        "# Standardize the data\n",
        "scaler = StandardScaler()\n",
        "X_train = scaler.fit_transform(X_train)\n",
        "X_test = scaler.transform(X_test)"
      ],
      "metadata": {
        "id": "rezUhrNyKwIQ"
      },
      "execution_count": 11,
      "outputs": []
    },
    {
      "cell_type": "code",
      "source": [
        "# Training the neural network\n",
        "input_size = X_train.shape[1]\n",
        "hidden_size = 10\n",
        "output_size = 1\n",
        "learning_rate = 0.01\n",
        "epochs = 1000\n",
        "\n",
        "W1, b1, W2, b2 = train(X_train, y_train, input_size, hidden_size, output_size, learning_rate, epochs)\n",
        "\n",
        "# Prediction on test data\n",
        "_, _, _, y_pred = forward(X_test, W1, b1, W2, b2)\n",
        "test_loss = mean_squared_error(y_test, y_pred)\n",
        "print(f'Test Loss: {test_loss}')"
      ],
      "metadata": {
        "colab": {
          "base_uri": "https://localhost:8080/"
        },
        "id": "v17PIH2XKipX",
        "outputId": "34b6ba04-6c97-489d-f16f-ff3f270f3ad2"
      },
      "execution_count": 12,
      "outputs": [
        {
          "output_type": "stream",
          "name": "stdout",
          "text": [
            "Epoch 0, Loss: 5.629599678123197\n",
            "Epoch 100, Loss: 1.9011687773831834\n",
            "Epoch 200, Loss: 1.367066006216893\n",
            "Epoch 300, Loss: 1.1888172023758037\n",
            "Epoch 400, Loss: 0.975503877029595\n",
            "Epoch 500, Loss: 0.7983999265306903\n",
            "Epoch 600, Loss: 0.7114485565625088\n",
            "Epoch 700, Loss: 0.6704726903197533\n",
            "Epoch 800, Loss: 0.6463281823680805\n",
            "Epoch 900, Loss: 0.6279834717512648\n",
            "Test Loss: 0.6284033054103655\n"
          ]
        }
      ]
    }
  ]
}
{
  "nbformat": 4,
  "nbformat_minor": 0,
  "metadata": {
    "colab": {
      "provenance": []
    },
    "kernelspec": {
      "name": "python3",
      "display_name": "Python 3"
    },
    "language_info": {
      "name": "python"
    }
  },
  "cells": [
    {
      "cell_type": "code",
      "execution_count": 9,
      "metadata": {
        "colab": {
          "base_uri": "https://localhost:8080/"
        },
        "id": "rxwPizOMK_2T",
        "outputId": "9cf1c1a7-f3f6-4c0f-eb9d-0f46f7cbb1df"
      },
      "outputs": [
        {
          "output_type": "stream",
          "name": "stdout",
          "text": [
            "---------------Calculator---------------\n",
            "Enter first number: 15\n",
            "Enter second number: 5\n",
            "Enter operator: /\n",
            "15.0 / 5.0  =  3.0\n"
          ]
        }
      ],
      "source": [
        "print(\"---------------Calculator---------------\")\n",
        "a = float(input(\"Enter first number: \"))\n",
        "b = float(input(\"Enter second number: \"))\n",
        "c = input(\"Enter operator: \")\n",
        "\n",
        "if c == \"+\":\n",
        "    print(a, \" + \", b, \" = \", a + b)\n",
        "elif c == \"-\":\n",
        "    print(a, \" - \", b, \" = \", a - b)\n",
        "elif c == \"*\":\n",
        "    print(a, \" * \", b, \" = \", a * b)\n",
        "elif c == \"/\":\n",
        "    if b == 0:\n",
        "        print(\"Cannot divide by zero\")\n",
        "    else:\n",
        "      print(a, \"/\", b, \" = \", a / b)\n",
        "else:\n",
        "    print(\"Invalid operator\")"
      ]
    },
    {
      "cell_type": "code",
      "source": [],
      "metadata": {
        "id": "HJsKY-SVLpUa"
      },
      "execution_count": null,
      "outputs": []
    }
  ]
}
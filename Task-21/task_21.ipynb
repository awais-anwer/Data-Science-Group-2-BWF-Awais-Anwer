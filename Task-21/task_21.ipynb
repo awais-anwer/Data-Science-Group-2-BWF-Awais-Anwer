{
  "nbformat": 4,
  "nbformat_minor": 0,
  "metadata": {
    "colab": {
      "provenance": []
    },
    "kernelspec": {
      "name": "python3",
      "display_name": "Python 3"
    },
    "language_info": {
      "name": "python"
    }
  },
  "cells": [
    {
      "cell_type": "markdown",
      "source": [
        "# Task 21: Linear algebra and Calculus in NumPy\n",
        "Submitted by: Awais Anwer"
      ],
      "metadata": {
        "id": "4xLFf-bU6O0A"
      }
    },
    {
      "cell_type": "markdown",
      "source": [
        "## Linear Algebra Tasks"
      ],
      "metadata": {
        "id": "vvdp5xH76YzQ"
      }
    },
    {
      "cell_type": "code",
      "source": [
        "import numpy as np"
      ],
      "metadata": {
        "id": "CbhWTUc36vko"
      },
      "execution_count": 2,
      "outputs": []
    },
    {
      "cell_type": "markdown",
      "source": [
        "### 1. Matrix Creation and Manipulation"
      ],
      "metadata": {
        "id": "VVaxn-GP-teP"
      }
    },
    {
      "cell_type": "code",
      "execution_count": 3,
      "metadata": {
        "id": "Ynjj5S6y5b4z"
      },
      "outputs": [],
      "source": [
        "# Create various types of matrices (zero matrix, identity matrix, random matrix).\n",
        "# Perform basic matrix operations (addition, subtraction, multiplication).\n",
        "# Transpose a matrix and find the determinant and inverse of a matrix."
      ]
    },
    {
      "cell_type": "code",
      "source": [
        "# zero matrix\n",
        "zero_matrix = np.zeros((3, 3), dtype=int)\n",
        "print(\"Zero Matrix:\")\n",
        "print(zero_matrix)"
      ],
      "metadata": {
        "colab": {
          "base_uri": "https://localhost:8080/"
        },
        "id": "7at1UeT56ir5",
        "outputId": "45e07b36-d113-4403-9197-663157ae663a"
      },
      "execution_count": 4,
      "outputs": [
        {
          "output_type": "stream",
          "name": "stdout",
          "text": [
            "Zero Matrix:\n",
            "[[0 0 0]\n",
            " [0 0 0]\n",
            " [0 0 0]]\n"
          ]
        }
      ]
    },
    {
      "cell_type": "code",
      "source": [
        "# Identity Matrix\n",
        "identity_matrix = np.identity(3, dtype=int)\n",
        "print(\"Identity Matrix:\")\n",
        "print(identity_matrix)"
      ],
      "metadata": {
        "colab": {
          "base_uri": "https://localhost:8080/"
        },
        "id": "EJ2EvgL964T5",
        "outputId": "26ebe6b2-77dc-4071-a3ea-43d3469757d7"
      },
      "execution_count": 5,
      "outputs": [
        {
          "output_type": "stream",
          "name": "stdout",
          "text": [
            "Identity Matrix:\n",
            "[[1 0 0]\n",
            " [0 1 0]\n",
            " [0 0 1]]\n"
          ]
        }
      ]
    },
    {
      "cell_type": "code",
      "source": [
        "# Random Matrix\n",
        "np.random.seed(42)\n",
        "random_matrix = np.random.randint(1, 10, size=(3, 3), dtype=int)\n",
        "print(\"Random Matrix:\")\n",
        "print(random_matrix)"
      ],
      "metadata": {
        "colab": {
          "base_uri": "https://localhost:8080/"
        },
        "id": "RHYVfOG07SRR",
        "outputId": "f4744287-736f-48bd-9dea-03cbda5878ff"
      },
      "execution_count": 6,
      "outputs": [
        {
          "output_type": "stream",
          "name": "stdout",
          "text": [
            "Random Matrix:\n",
            "[[7 4 8]\n",
            " [5 7 3]\n",
            " [7 8 5]]\n"
          ]
        }
      ]
    },
    {
      "cell_type": "code",
      "source": [
        "# addition\n",
        "addition_matrix = identity_matrix + random_matrix\n",
        "print(\"Addition Matrix:\")\n",
        "print(addition_matrix)"
      ],
      "metadata": {
        "colab": {
          "base_uri": "https://localhost:8080/"
        },
        "id": "ghGsQP3-7wKA",
        "outputId": "f9d676c3-8f3e-4d04-92bb-1b89ca42c8a5"
      },
      "execution_count": 7,
      "outputs": [
        {
          "output_type": "stream",
          "name": "stdout",
          "text": [
            "Addition Matrix:\n",
            "[[8 4 8]\n",
            " [5 8 3]\n",
            " [7 8 6]]\n"
          ]
        }
      ]
    },
    {
      "cell_type": "code",
      "source": [
        "# subtraction\n",
        "subtraction_matrix = random_matrix - identity_matrix\n",
        "print(\"Subtraction Matrix:\")\n",
        "print(subtraction_matrix)"
      ],
      "metadata": {
        "colab": {
          "base_uri": "https://localhost:8080/"
        },
        "id": "HPz0dqK38SlN",
        "outputId": "602a9031-945b-43b7-bdc5-dd5d38000939"
      },
      "execution_count": 8,
      "outputs": [
        {
          "output_type": "stream",
          "name": "stdout",
          "text": [
            "Subtraction Matrix:\n",
            "[[6 4 8]\n",
            " [5 6 3]\n",
            " [7 8 4]]\n"
          ]
        }
      ]
    },
    {
      "cell_type": "code",
      "source": [
        "# multiplication\n",
        "multiplication_matrix = np.dot(identity_matrix, random_matrix)\n",
        "print(\"Multiplication Matrix:\")\n",
        "print(multiplication_matrix)"
      ],
      "metadata": {
        "colab": {
          "base_uri": "https://localhost:8080/"
        },
        "id": "egQofb2R8XMX",
        "outputId": "4b514973-8176-4ddb-eabb-18d61c1a52dc"
      },
      "execution_count": 9,
      "outputs": [
        {
          "output_type": "stream",
          "name": "stdout",
          "text": [
            "Multiplication Matrix:\n",
            "[[7 4 8]\n",
            " [5 7 3]\n",
            " [7 8 5]]\n"
          ]
        }
      ]
    },
    {
      "cell_type": "code",
      "source": [
        "# transpose of random matrix\n",
        "transpose_matrix = np.transpose(random_matrix)\n",
        "print(\"Random Matrix:\")\n",
        "print(random_matrix)\n",
        "print(\"\\nTranspose Matrix:\")\n",
        "print(transpose_matrix)"
      ],
      "metadata": {
        "colab": {
          "base_uri": "https://localhost:8080/"
        },
        "id": "R-xAIQ8K8fht",
        "outputId": "f703b145-7cbd-495b-f041-eabfcb9164de"
      },
      "execution_count": 10,
      "outputs": [
        {
          "output_type": "stream",
          "name": "stdout",
          "text": [
            "Random Matrix:\n",
            "[[7 4 8]\n",
            " [5 7 3]\n",
            " [7 8 5]]\n",
            "\n",
            "Transpose Matrix:\n",
            "[[7 5 7]\n",
            " [4 7 8]\n",
            " [8 3 5]]\n"
          ]
        }
      ]
    },
    {
      "cell_type": "code",
      "source": [
        "# determinant of random matrix\n",
        "determinant = np.linalg.det(random_matrix)\n",
        "\n",
        "print(\"Random Matrix:\")\n",
        "print(random_matrix)\n",
        "\n",
        "print(\"\\nDeterminant of Random Matrix:\")\n",
        "print(determinant)"
      ],
      "metadata": {
        "colab": {
          "base_uri": "https://localhost:8080/"
        },
        "id": "KTVvegI39xn4",
        "outputId": "030cf020-4e81-4f83-8a7f-69e49f4325fd"
      },
      "execution_count": 11,
      "outputs": [
        {
          "output_type": "stream",
          "name": "stdout",
          "text": [
            "Random Matrix:\n",
            "[[7 4 8]\n",
            " [5 7 3]\n",
            " [7 8 5]]\n",
            "\n",
            "Determinant of Random Matrix:\n",
            "-11.00000000000003\n"
          ]
        }
      ]
    },
    {
      "cell_type": "code",
      "source": [
        "# inverse of random matrix\n",
        "inverse_matrix = np.linalg.inv(random_matrix)\n",
        "\n",
        "print(\"Random Matrix:\")\n",
        "print(random_matrix)\n",
        "\n",
        "print(\"\\nInverse of Random Matrix:\")\n",
        "print(inverse_matrix)"
      ],
      "metadata": {
        "colab": {
          "base_uri": "https://localhost:8080/"
        },
        "id": "ts2wy9tx-M6M",
        "outputId": "3836d1fd-ed73-4d4f-d00b-98d240d84b27"
      },
      "execution_count": 12,
      "outputs": [
        {
          "output_type": "stream",
          "name": "stdout",
          "text": [
            "Random Matrix:\n",
            "[[7 4 8]\n",
            " [5 7 3]\n",
            " [7 8 5]]\n",
            "\n",
            "Inverse of Random Matrix:\n",
            "[[-1.         -4.          4.        ]\n",
            " [ 0.36363636  1.90909091 -1.72727273]\n",
            " [ 0.81818182  2.54545455 -2.63636364]]\n"
          ]
        }
      ]
    },
    {
      "cell_type": "markdown",
      "source": [
        "### 2. Solving Linear Equations"
      ],
      "metadata": {
        "id": "rKvW32et-yPk"
      }
    },
    {
      "cell_type": "code",
      "source": [
        "# Use NumPy to solve a system of linear equations.\n",
        "# Implement matrix factorization methods (LU decomposition, QR decomposition)."
      ],
      "metadata": {
        "id": "f_zm49-p-jAb"
      },
      "execution_count": 13,
      "outputs": []
    },
    {
      "cell_type": "code",
      "source": [
        "# Use NumPy to solve a system of linear equations.\n",
        "A = np.array([[2, 3], [1, -1]])\n",
        "B = np.array([5, 2])\n",
        "\n",
        "X = np.linalg.solve(A, B)\n",
        "\n",
        "print(\"Coefficient Matrix:\")\n",
        "print(A)\n",
        "\n",
        "print(\"\\nOrdinates:\")\n",
        "print(B)\n",
        "\n",
        "print(\"\\nSolution:\")\n",
        "print(X)"
      ],
      "metadata": {
        "colab": {
          "base_uri": "https://localhost:8080/"
        },
        "id": "Y5jOquDK-5BM",
        "outputId": "bed3f216-585c-4c1d-a517-33af5a73545f"
      },
      "execution_count": 14,
      "outputs": [
        {
          "output_type": "stream",
          "name": "stdout",
          "text": [
            "Coefficient Matrix:\n",
            "[[ 2  3]\n",
            " [ 1 -1]]\n",
            "\n",
            "Ordinates:\n",
            "[5 2]\n",
            "\n",
            "Solution:\n",
            "[2.2 0.2]\n"
          ]
        }
      ]
    },
    {
      "cell_type": "code",
      "source": [
        "# Implement matrix factorization methods (LU decomposition, QR decomposition).\n",
        "# LU decomposition\n",
        "from scipy.linalg import lu\n",
        "A = np.array([[2, 1, 1], [1, 3, 2], [1, 0, 0]])\n",
        "P, L, U = lu(A)\n",
        "\n",
        "print(\"A:\\n\", A)\n",
        "print()\n",
        "print(\"P:\\n\", P)\n",
        "print(\"L:\\n\", L)\n",
        "print(\"U:\\n\", U)"
      ],
      "metadata": {
        "colab": {
          "base_uri": "https://localhost:8080/"
        },
        "collapsed": true,
        "id": "vA-35gjZ_NPd",
        "outputId": "f3b81859-eb5a-45fe-c609-2cbee8bf5707"
      },
      "execution_count": 15,
      "outputs": [
        {
          "output_type": "stream",
          "name": "stdout",
          "text": [
            "A:\n",
            " [[2 1 1]\n",
            " [1 3 2]\n",
            " [1 0 0]]\n",
            "\n",
            "P:\n",
            " [[1. 0. 0.]\n",
            " [0. 1. 0.]\n",
            " [0. 0. 1.]]\n",
            "L:\n",
            " [[ 1.   0.   0. ]\n",
            " [ 0.5  1.   0. ]\n",
            " [ 0.5 -0.2  1. ]]\n",
            "U:\n",
            " [[ 2.   1.   1. ]\n",
            " [ 0.   2.5  1.5]\n",
            " [ 0.   0.  -0.2]]\n"
          ]
        }
      ]
    },
    {
      "cell_type": "code",
      "source": [
        "# QR decomposition\n",
        "A = np.array([[2, 1, 1], [1, 3, 2], [1, 0, 0]])\n",
        "Q, R = np.linalg.qr(A)\n",
        "\n",
        "print(\"A:\\n\", A)\n",
        "print()\n",
        "print(\"Q:\\n\", Q)\n",
        "print(\"R:\\n\", R)"
      ],
      "metadata": {
        "colab": {
          "base_uri": "https://localhost:8080/"
        },
        "id": "0vYlXQ4uByyC",
        "outputId": "42c3da89-6d24-4cae-b047-f9801e47d9d8"
      },
      "execution_count": 16,
      "outputs": [
        {
          "output_type": "stream",
          "name": "stdout",
          "text": [
            "A:\n",
            " [[2 1 1]\n",
            " [1 3 2]\n",
            " [1 0 0]]\n",
            "\n",
            "Q:\n",
            " [[-0.81649658  0.27602622 -0.50709255]\n",
            " [-0.40824829 -0.89708523  0.16903085]\n",
            " [-0.40824829  0.34503278  0.84515425]]\n",
            "R:\n",
            " [[-2.44948974 -2.04124145 -1.63299316]\n",
            " [ 0.         -2.41522946 -1.51814423]\n",
            " [ 0.          0.         -0.16903085]]\n"
          ]
        }
      ]
    },
    {
      "cell_type": "markdown",
      "source": [
        "### 3. Eigenvalues and Eigenvectors"
      ],
      "metadata": {
        "id": "-51cgzRbCYk9"
      }
    },
    {
      "cell_type": "code",
      "source": [
        "# Calculate the eigenvalues and eigenvectors of a given matrix.\n",
        "# Verify the results by reconstructing the original matrix."
      ],
      "metadata": {
        "id": "4C-qGkV4CatQ"
      },
      "execution_count": 17,
      "outputs": []
    },
    {
      "cell_type": "code",
      "source": [
        "# Calculate the eigenvalues and eigenvectors of a given matrix.\n",
        "A = np.array([[2, 1, 1], [1, 3, 2], [1, 0, 0]])\n",
        "eigenvalues, eigenvectors = np.linalg.eig(A)\n",
        "\n",
        "print(\"A:\\n\", A)\n",
        "print()\n",
        "print(\"Eigenvalues:\\n\", eigenvalues)\n",
        "print()\n",
        "print(\"Eigenvectors:\\n\", eigenvectors)"
      ],
      "metadata": {
        "colab": {
          "base_uri": "https://localhost:8080/"
        },
        "id": "mDym2SSrCfl3",
        "outputId": "71eeb1eb-b23a-4f27-f8b2-ef8efb5fe4da"
      },
      "execution_count": 18,
      "outputs": [
        {
          "output_type": "stream",
          "name": "stdout",
          "text": [
            "A:\n",
            " [[2 1 1]\n",
            " [1 3 2]\n",
            " [1 0 0]]\n",
            "\n",
            "Eigenvalues:\n",
            " [ 3.91222918  1.28646207 -0.19869124]\n",
            "\n",
            "Eigenvectors:\n",
            " [[-0.51233387 -0.51118241 -0.17058945]\n",
            " [-0.84874276  0.76210326 -0.48349198]\n",
            " [-0.13095702 -0.39735522  0.85856551]]\n"
          ]
        }
      ]
    },
    {
      "cell_type": "code",
      "source": [
        "# Verify the results by reconstructing the original matrix.\n",
        "reconstructed_matrix = np.dot(np.dot(eigenvectors, np.diag(eigenvalues)), np.linalg.inv(eigenvectors))\n",
        "\n",
        "print(\"Reconstructed Matrix:\\n\", reconstructed_matrix)"
      ],
      "metadata": {
        "colab": {
          "base_uri": "https://localhost:8080/"
        },
        "id": "r89Ps4gZCobp",
        "outputId": "0f841e50-9d6a-45c5-e7a4-b8b92cf4695d"
      },
      "execution_count": 19,
      "outputs": [
        {
          "output_type": "stream",
          "name": "stdout",
          "text": [
            "Reconstructed Matrix:\n",
            " [[ 2.00000000e+00  1.00000000e+00  1.00000000e+00]\n",
            " [ 1.00000000e+00  3.00000000e+00  2.00000000e+00]\n",
            " [ 1.00000000e+00 -5.01869369e-16 -4.60303188e-16]]\n"
          ]
        }
      ]
    },
    {
      "cell_type": "markdown",
      "source": [
        "### 4. Vector Operations"
      ],
      "metadata": {
        "id": "LTez8uMbC4xy"
      }
    },
    {
      "cell_type": "code",
      "source": [
        "# Perform basic vector operations (addition, dot product, cross product).\n",
        "# Normalize a vector and compute vector norms."
      ],
      "metadata": {
        "id": "s1iJfzm-C9au"
      },
      "execution_count": 20,
      "outputs": []
    },
    {
      "cell_type": "code",
      "source": [
        "# Perform basic vector operations (addition, dot product, cross product).\n",
        "vector_a = np.array([1, 2, 3, 4, 3, 2, 8, 1])\n",
        "vector_b = np.array([3, 3, 3, 3, 3, 3, 4, 4])\n",
        "\n",
        "# addition\n",
        "addition_result = vector_a + vector_b\n",
        "print(\"Vector A:\\n\", vector_a)\n",
        "print(\"Vector B:\\n\", vector_b)\n",
        "print(\"Addition Result:\\n\", addition_result)"
      ],
      "metadata": {
        "colab": {
          "base_uri": "https://localhost:8080/"
        },
        "id": "4hvNFikkDEAt",
        "outputId": "342e533d-f4c3-4b0a-b90c-bcb7aa5b0f28"
      },
      "execution_count": 21,
      "outputs": [
        {
          "output_type": "stream",
          "name": "stdout",
          "text": [
            "Vector A:\n",
            " [1 2 3 4 3 2 8 1]\n",
            "Vector B:\n",
            " [3 3 3 3 3 3 4 4]\n",
            "Addition Result:\n",
            " [ 4  5  6  7  6  5 12  5]\n"
          ]
        }
      ]
    },
    {
      "cell_type": "code",
      "source": [
        "# dot product\n",
        "dot_product_result = np.dot(vector_a, vector_b)\n",
        "\n",
        "print(\"Vector A:\\n\", vector_a)\n",
        "print(\"Vector B:\\n\", vector_b)\n",
        "print(\"Dot Product Result:\\n\", dot_product_result)"
      ],
      "metadata": {
        "colab": {
          "base_uri": "https://localhost:8080/"
        },
        "id": "BHgliRhEDcaN",
        "outputId": "89f8c5f4-1ff5-45f9-f4b7-78717b8dadcc"
      },
      "execution_count": 22,
      "outputs": [
        {
          "output_type": "stream",
          "name": "stdout",
          "text": [
            "Vector A:\n",
            " [1 2 3 4 3 2 8 1]\n",
            "Vector B:\n",
            " [3 3 3 3 3 3 4 4]\n",
            "Dot Product Result:\n",
            " 81\n"
          ]
        }
      ]
    },
    {
      "cell_type": "markdown",
      "source": [
        "### 5. Matrix Decompostion"
      ],
      "metadata": {
        "id": "0Xl_kyy7Dysc"
      }
    },
    {
      "cell_type": "code",
      "source": [
        "# Understand and implement Principal Component Analysis (PCA) using SVD.\n",
        "data = np.array([[2.5, 2.4],\n",
        "                 [0.5, 0.7],\n",
        "                 [2.2, 2.9],\n",
        "                 [1.9, 2.2],\n",
        "                 [3.1, 3.0],\n",
        "                 [2.3, 2.7],\n",
        "                 [2.0, 1.6],\n",
        "                 [1.0, 1.1],\n",
        "                 [1.5, 1.6],\n",
        "                 [1.1, 0.9]])"
      ],
      "metadata": {
        "id": "91j_E4tUDjUq"
      },
      "execution_count": 23,
      "outputs": []
    },
    {
      "cell_type": "code",
      "source": [
        "print(data)"
      ],
      "metadata": {
        "colab": {
          "base_uri": "https://localhost:8080/"
        },
        "id": "a4I-ddzFWxMG",
        "outputId": "8827cab3-9efb-47c8-eed1-469b7efc98e7"
      },
      "execution_count": 24,
      "outputs": [
        {
          "output_type": "stream",
          "name": "stdout",
          "text": [
            "[[2.5 2.4]\n",
            " [0.5 0.7]\n",
            " [2.2 2.9]\n",
            " [1.9 2.2]\n",
            " [3.1 3. ]\n",
            " [2.3 2.7]\n",
            " [2.  1.6]\n",
            " [1.  1.1]\n",
            " [1.5 1.6]\n",
            " [1.1 0.9]]\n"
          ]
        }
      ]
    },
    {
      "cell_type": "code",
      "source": [
        "num_components = 2\n",
        "\n",
        "# Step 1: Standardize the data\n",
        "mean = np.mean(data, axis=0)\n",
        "std = np.std(data, axis=0)\n",
        "standardized_data = (data - mean) / std\n",
        "\n",
        "# Step 2: Compute the covariance matrix\n",
        "covariance_matrix = np.cov(standardized_data, rowvar=False)\n",
        "\n",
        "# Step 3: Perform SVD\n",
        "U, S, Vt = np.linalg.svd(covariance_matrix)\n",
        "\n",
        "# Step 4: Compute the principal components\n",
        "principal_components = Vt[:num_components]\n",
        "\n",
        "# Step 5: Transform the data\n",
        "transformed_data = np.dot(standardized_data, principal_components.T)"
      ],
      "metadata": {
        "id": "_HWV5UdUW1AO"
      },
      "execution_count": 25,
      "outputs": []
    },
    {
      "cell_type": "code",
      "source": [
        "print(\"Transformed Data:\\n\", transformed_data)\n",
        "print(\"Principal Components:\\n\", principal_components)"
      ],
      "metadata": {
        "colab": {
          "base_uri": "https://localhost:8080/"
        },
        "id": "s6ANjDimXH_R",
        "outputId": "4db7e8f9-1ab5-4623-d2c2-3cd09e265abe"
      },
      "execution_count": 26,
      "outputs": [
        {
          "output_type": "stream",
          "name": "stdout",
          "text": [
            "Transformed Data:\n",
            " [[-1.08643242 -0.22352364]\n",
            " [ 2.3089372   0.17808082]\n",
            " [-1.24191895  0.501509  ]\n",
            " [-0.34078247  0.16991864]\n",
            " [-2.18429003 -0.26475825]\n",
            " [-1.16073946  0.23048082]\n",
            " [ 0.09260467 -0.45331721]\n",
            " [ 1.48210777  0.05566672]\n",
            " [ 0.56722643  0.02130455]\n",
            " [ 1.56328726 -0.21536146]]\n",
            "Principal Components:\n",
            " [[-0.70710678 -0.70710678]\n",
            " [-0.70710678  0.70710678]]\n"
          ]
        }
      ]
    },
    {
      "cell_type": "markdown",
      "source": [
        "# Calculus Tasks"
      ],
      "metadata": {
        "id": "rrhGJxotXdKM"
      }
    },
    {
      "cell_type": "markdown",
      "source": [
        "### 1. Numerical Differentiation\n"
      ],
      "metadata": {
        "id": "7BwgJXQ7Xhx5"
      }
    },
    {
      "cell_type": "code",
      "source": [
        "# Use NumPy to compute the numerical derivative of a given function.\n",
        "# Implement forward, backward, and central difference methods for differentiation."
      ],
      "metadata": {
        "id": "TeP_6l7cXRrO"
      },
      "execution_count": 27,
      "outputs": []
    },
    {
      "cell_type": "code",
      "source": [
        "polynomial_function = np.poly1d([3, 2, 1])\n",
        "print(\"Polynomial function f(x):\\n\", polynomial_function)"
      ],
      "metadata": {
        "colab": {
          "base_uri": "https://localhost:8080/"
        },
        "id": "N7m5cK-AXm2N",
        "outputId": "a966438a-f5ab-467a-8cd7-f219ca44e1c5"
      },
      "execution_count": 33,
      "outputs": [
        {
          "output_type": "stream",
          "name": "stdout",
          "text": [
            "Polynomial function f(x):\n",
            "    2\n",
            "3 x + 2 x + 1\n"
          ]
        }
      ]
    },
    {
      "cell_type": "code",
      "source": [
        "derivative = polynomial_function.deriv()\n",
        "print(\"Derivative of the polynomial function:\\n\", derivative)"
      ],
      "metadata": {
        "colab": {
          "base_uri": "https://localhost:8080/"
        },
        "id": "R1D94rtRY2qy",
        "outputId": "fa624dc2-2c85-40b5-d8e9-020faff3f9e7"
      },
      "execution_count": 35,
      "outputs": [
        {
          "output_type": "stream",
          "name": "stdout",
          "text": [
            "Derivative of the polynomial function:\n",
            "  \n",
            "6 x + 2\n"
          ]
        }
      ]
    },
    {
      "cell_type": "code",
      "source": [
        "print(derivative(5))"
      ],
      "metadata": {
        "colab": {
          "base_uri": "https://localhost:8080/"
        },
        "id": "DVpSaPRAZaJ-",
        "outputId": "c91475fd-7145-4569-83a3-524f9f2bc3df"
      },
      "execution_count": 36,
      "outputs": [
        {
          "output_type": "stream",
          "name": "stdout",
          "text": [
            "32\n"
          ]
        }
      ]
    },
    {
      "cell_type": "code",
      "source": [
        "def forward_difference(f, x, h):\n",
        "    return (f(x + h) - f(x)) / h\n",
        "\n",
        "def backward_difference(f, x, h):\n",
        "    return (f(x) - f(x - h)) / h\n",
        "\n",
        "def central_difference(f, x, h):\n",
        "    return (f(x + h) - f(x - h)) / (2 * h)"
      ],
      "metadata": {
        "id": "CXSAbTjFZj4_"
      },
      "execution_count": 42,
      "outputs": []
    },
    {
      "cell_type": "code",
      "source": [
        "# Example usage\n",
        "x = np.linspace(-10, 10, 100)\n",
        "h = 1e-5\n",
        "\n",
        "f = lambda x: polynomial_function(x)\n",
        "\n",
        "forward_diff = forward_difference(f, x, h)\n",
        "backward_diff = backward_difference(f, x, h)\n",
        "central_diff = central_difference(f, x, h)\n",
        "\n",
        "true_derivative = derivative(x)\n",
        "\n",
        "# Print results for comparison\n",
        "print(\"\\nForward Difference:\\n\", forward_diff)\n",
        "print(\"\\nBackward Difference:\\n\", backward_diff)\n",
        "print(\"\\nCentral Difference:\\n\", central_diff)\n",
        "print(\"\\nTrue Derivative (symbolic):\\n\", true_derivative)"
      ],
      "metadata": {
        "colab": {
          "base_uri": "https://localhost:8080/"
        },
        "id": "lDGtP_7-bTFg",
        "outputId": "3e239424-2c12-43e3-e3e7-5fa2f4fa82b2"
      },
      "execution_count": 46,
      "outputs": [
        {
          "output_type": "stream",
          "name": "stdout",
          "text": [
            "\n",
            "Forward Difference:\n",
            " [-57.99997    -56.78784878 -55.57572757 -54.36360636 -53.15148515\n",
            " -51.93936394 -50.72724272 -49.51512151 -48.3030003  -47.09087909\n",
            " -45.87875788 -44.66663667 -43.45451545 -42.24239424 -41.03027303\n",
            " -39.81815182 -38.6060306  -37.39390939 -36.18178818 -34.96966697\n",
            " -33.75754576 -32.54542454 -31.33330333 -30.12118212 -28.90906091\n",
            " -27.6969397  -26.48481848 -25.27269727 -24.06057606 -22.84845485\n",
            " -21.63633364 -20.42421242 -19.21209121 -17.99997    -16.78784879\n",
            " -15.57572758 -14.36360636 -13.15148515 -11.93936394 -10.72724273\n",
            "  -9.51512152  -8.3030003   -7.09087909  -5.87875788  -4.66663667\n",
            "  -3.45451545  -2.24239424  -1.03027303   0.18184818   1.39396939\n",
            "   2.60609061   3.81821182   5.03033303   6.24245424   7.45457545\n",
            "   8.66669667   9.87881788  11.09093909  12.3030603   13.51518152\n",
            "  14.72730273  15.93942394  17.15154515  18.36366636  19.57578758\n",
            "  20.78790879  22.00003     23.21215121  24.42427242  25.63639364\n",
            "  26.84851485  28.06063606  29.27275727  30.48487848  31.69699969\n",
            "  32.90912091  34.12124212  35.33336333  36.54548455  37.75760576\n",
            "  38.96972697  40.18184818  41.39396939  42.60609061  43.81821182\n",
            "  45.03033303  46.24245424  47.45457545  48.66669667  49.87881788\n",
            "  51.09093909  52.3030603   53.51518151  54.72730273  55.93942394\n",
            "  57.15154515  58.36366636  59.57578757  60.78790879  62.00002999]\n",
            "\n",
            "Backward Difference:\n",
            " [-58.00003    -56.78790879 -55.57578758 -54.36366636 -53.15154515\n",
            " -51.93942394 -50.72730273 -49.51518152 -48.3030603  -47.09093909\n",
            " -45.87881788 -44.66669666 -43.45457546 -42.24245424 -41.03033303\n",
            " -39.81821182 -38.6060906  -37.3939694  -36.18184818 -34.96972697\n",
            " -33.75760576 -32.54548455 -31.33336333 -30.12124212 -28.90912091\n",
            " -27.6969997  -26.48487848 -25.27275727 -24.06063606 -22.84851485\n",
            " -21.63639364 -20.42427242 -19.21215121 -18.00003    -16.78790879\n",
            " -15.57578758 -14.36366636 -13.15154515 -11.93942394 -10.72730273\n",
            "  -9.51518152  -8.3030603   -7.09093909  -5.87881788  -4.66669667\n",
            "  -3.45457545  -2.24245424  -1.03033303   0.18178818   1.39390939\n",
            "   2.60603061   3.81815182   5.03027303   6.24239424   7.45451545\n",
            "   8.66663667   9.87875788  11.09087909  12.3030003   13.51512152\n",
            "  14.72724273  15.93936394  17.15148515  18.36360636  19.57572758\n",
            "  20.78784879  21.99997     23.21209121  24.42421242  25.63633364\n",
            "  26.84845485  28.06057606  29.27269727  30.48481848  31.6969397\n",
            "  32.90906091  34.12118212  35.33330333  36.54542454  37.75754576\n",
            "  38.96966697  40.18178818  41.39390939  42.6060306   43.81815182\n",
            "  45.03027303  46.24239424  47.45451545  48.66663666  49.87875787\n",
            "  51.09087909  52.3030003   53.51512151  54.72724272  55.93936394\n",
            "  57.15148515  58.36360636  59.57572757  60.78784879  61.99996999]\n",
            "\n",
            "Central Difference:\n",
            " [-58.         -56.78787878 -55.57575757 -54.36363636 -53.15151515\n",
            " -51.93939394 -50.72727273 -49.51515151 -48.3030303  -47.09090909\n",
            " -45.87878788 -44.66666666 -43.45454545 -42.24242424 -41.03030303\n",
            " -39.81818182 -38.6060606  -37.39393939 -36.18181818 -34.96969697\n",
            " -33.75757576 -32.54545454 -31.33333333 -30.12121212 -28.90909091\n",
            " -27.6969697  -26.48484848 -25.27272727 -24.06060606 -22.84848485\n",
            " -21.63636364 -20.42424242 -19.21212121 -18.         -16.78787879\n",
            " -15.57575758 -14.36363636 -13.15151515 -11.93939394 -10.72727273\n",
            "  -9.51515152  -8.3030303   -7.09090909  -5.87878788  -4.66666667\n",
            "  -3.45454545  -2.24242424  -1.03030303   0.18181818   1.39393939\n",
            "   2.60606061   3.81818182   5.03030303   6.24242424   7.45454545\n",
            "   8.66666667   9.87878788  11.09090909  12.3030303   13.51515152\n",
            "  14.72727273  15.93939394  17.15151515  18.36363636  19.57575758\n",
            "  20.78787879  22.          23.21212121  24.42424242  25.63636364\n",
            "  26.84848485  28.06060606  29.27272727  30.48484848  31.6969697\n",
            "  32.90909091  34.12121212  35.33333333  36.54545454  37.75757576\n",
            "  38.96969697  40.18181818  41.39393939  42.6060606   43.81818182\n",
            "  45.03030303  46.24242424  47.45454545  48.66666666  49.87878788\n",
            "  51.09090909  52.3030303   53.51515151  54.72727272  55.93939394\n",
            "  57.15151515  58.36363636  59.57575757  60.78787879  61.99999999]\n",
            "\n",
            "True Derivative (symbolic):\n",
            " [-58.         -56.78787879 -55.57575758 -54.36363636 -53.15151515\n",
            " -51.93939394 -50.72727273 -49.51515152 -48.3030303  -47.09090909\n",
            " -45.87878788 -44.66666667 -43.45454545 -42.24242424 -41.03030303\n",
            " -39.81818182 -38.60606061 -37.39393939 -36.18181818 -34.96969697\n",
            " -33.75757576 -32.54545455 -31.33333333 -30.12121212 -28.90909091\n",
            " -27.6969697  -26.48484848 -25.27272727 -24.06060606 -22.84848485\n",
            " -21.63636364 -20.42424242 -19.21212121 -18.         -16.78787879\n",
            " -15.57575758 -14.36363636 -13.15151515 -11.93939394 -10.72727273\n",
            "  -9.51515152  -8.3030303   -7.09090909  -5.87878788  -4.66666667\n",
            "  -3.45454545  -2.24242424  -1.03030303   0.18181818   1.39393939\n",
            "   2.60606061   3.81818182   5.03030303   6.24242424   7.45454545\n",
            "   8.66666667   9.87878788  11.09090909  12.3030303   13.51515152\n",
            "  14.72727273  15.93939394  17.15151515  18.36363636  19.57575758\n",
            "  20.78787879  22.          23.21212121  24.42424242  25.63636364\n",
            "  26.84848485  28.06060606  29.27272727  30.48484848  31.6969697\n",
            "  32.90909091  34.12121212  35.33333333  36.54545455  37.75757576\n",
            "  38.96969697  40.18181818  41.39393939  42.60606061  43.81818182\n",
            "  45.03030303  46.24242424  47.45454545  48.66666667  49.87878788\n",
            "  51.09090909  52.3030303   53.51515152  54.72727273  55.93939394\n",
            "  57.15151515  58.36363636  59.57575758  60.78787879  62.        ]\n"
          ]
        }
      ]
    },
    {
      "cell_type": "markdown",
      "source": [
        "### 2. Numerical Integration"
      ],
      "metadata": {
        "id": "MYKq9F3DfSSk"
      }
    },
    {
      "cell_type": "code",
      "source": [
        "# Use NumPy to compute the numerical integral of a given function.\n",
        "# Implement the trapezoidal rule and Simpson's rule for integration."
      ],
      "metadata": {
        "id": "BGjMwk_bbU_c"
      },
      "execution_count": 47,
      "outputs": []
    },
    {
      "cell_type": "code",
      "source": [
        "def f(x):\n",
        "    return np.sin(x)"
      ],
      "metadata": {
        "id": "1o4ny57tfab1"
      },
      "execution_count": 54,
      "outputs": []
    },
    {
      "cell_type": "code",
      "source": [
        "\n",
        "# trapezoidal rule function\n",
        "def trapezoidal_rule(f, a, b, n):\n",
        "    x = np.linspace(a, b, n + 1)\n",
        "    y = f(x)\n",
        "    h = (b - a) / n\n",
        "    integral = (h / 2) * (y[0] + 2 * np.sum(y[1:-1]) + y[-1])\n",
        "    return integral\n",
        "\n",
        "# Simpson's rule function\n",
        "def simpsons_rule(f, a, b, n):\n",
        "    if n % 2 == 1:\n",
        "        raise ValueError(\"Number of intervals (n) must be even for Simpson's rule.\")\n",
        "    x = np.linspace(a, b, n + 1)\n",
        "    y = f(x)\n",
        "    h = (b - a) / n\n",
        "    integral = (h / 3) * (y[0] + 4 * np.sum(y[1:n:2]) + 2 * np.sum(y[2:n-1:2]) + y[-1])\n",
        "    return integral"
      ],
      "metadata": {
        "id": "PsSQD3FG7xnF"
      },
      "execution_count": 55,
      "outputs": []
    },
    {
      "cell_type": "code",
      "source": [
        "# Example usage\n",
        "a = 0  # Lower limit\n",
        "b = np.pi  # Upper limit\n",
        "n = 100  # Number of intervals\n",
        "\n",
        "trapezoidal_result = trapezoidal_rule(f, a, b, n)\n",
        "simpsons_result = simpsons_rule(f, a, b, n)\n",
        "\n",
        "print(\"Trapezoidal Rule Result:\", trapezoidal_result)\n",
        "print(\"Simpson's Rule Result:\", simpsons_result)\n",
        "\n",
        "# Exact integral of sin(x) from 0 to pi is 2\n",
        "exact_result = 2\n",
        "print(\"Exact Result:\", exact_result)"
      ],
      "metadata": {
        "colab": {
          "base_uri": "https://localhost:8080/"
        },
        "id": "Nq9a8S8a7zzB",
        "outputId": "01696c0a-5ed1-4827-c200-4d81cdb8565f"
      },
      "execution_count": 56,
      "outputs": [
        {
          "output_type": "stream",
          "name": "stdout",
          "text": [
            "Trapezoidal Rule Result: 1.9998355038874436\n",
            "Simpson's Rule Result: 2.000000010824504\n",
            "Exact Result: 2\n"
          ]
        }
      ]
    },
    {
      "cell_type": "markdown",
      "source": [
        "### 3. Partial Derivatives"
      ],
      "metadata": {
        "id": "R76JfLpR7TYa"
      }
    },
    {
      "cell_type": "code",
      "source": [
        "# Calculate partial derivatives of multivariable functions using NumPy.\n",
        "# Verify results by comparing with analytical solutions."
      ],
      "metadata": {
        "id": "AOtHmV4g7VBr"
      },
      "execution_count": 64,
      "outputs": []
    },
    {
      "cell_type": "code",
      "source": [
        "import sympy as sp"
      ],
      "metadata": {
        "id": "Thdrli9L8yP2"
      },
      "execution_count": 65,
      "outputs": []
    },
    {
      "cell_type": "code",
      "source": [
        "x, y = sp.symbols('x y')\n",
        "\n",
        "f_sym = x**2 + y**2"
      ],
      "metadata": {
        "id": "XpJllQfR7auB"
      },
      "execution_count": 66,
      "outputs": []
    },
    {
      "cell_type": "code",
      "source": [
        "# partial derivatives\n",
        "partial_x_sym = sp.diff(f_sym, x)\n",
        "partial_y_sym = sp.diff(f_sym, y)\n",
        "\n",
        "print(f\"Partial Derivative w.r.t x: {partial_x_sym}\")\n",
        "print(f\"Partial Derivative w.r.t y: {partial_y_sym}\")"
      ],
      "metadata": {
        "colab": {
          "base_uri": "https://localhost:8080/"
        },
        "id": "jmGrWmsi7q8d",
        "outputId": "1852f594-cb89-4702-a775-4a2228cba979"
      },
      "execution_count": 61,
      "outputs": [
        {
          "output_type": "stream",
          "name": "stdout",
          "text": [
            "Partial Derivative w.r.t x: 2*x\n",
            "Partial Derivative w.r.t y: 2*y\n"
          ]
        }
      ]
    },
    {
      "cell_type": "code",
      "source": [
        "def f(x, y):\n",
        "    return x**2 + y**2\n",
        "\n",
        "# Numerical partial derivative using central difference\n",
        "def partial_derivative_x(f, x, y, h=1e-5):\n",
        "    return (f(x + h, y) - f(x - h, y)) / (2 * h)\n",
        "\n",
        "def partial_derivative_y(f, x, y, h=1e-5):\n",
        "    return (f(x, y + h) - f(x, y - h)) / (2 * h)"
      ],
      "metadata": {
        "id": "WprEErCw-sV3"
      },
      "execution_count": 68,
      "outputs": []
    },
    {
      "cell_type": "code",
      "source": [
        "# point to evaluate the derivatives\n",
        "x0 = 2.0\n",
        "y0 = 3.0\n",
        "\n",
        "# numerical partial derivatives\n",
        "numerical_derivative_x = partial_derivative_x(f, x0, y0)\n",
        "numerical_derivative_y = partial_derivative_y(f, x0, y0)\n",
        "\n",
        "# analytical derivatives\n",
        "analytical_derivative_x = partial_x_sym.evalf(subs={x: x0, y: y0})\n",
        "analytical_derivative_y = partial_y_sym.evalf(subs={x: x0, y: y0})\n",
        "\n",
        "print(f\"Numerical Partial Derivative w.r.t x at ({x0}, {y0}): {numerical_derivative_x}\")\n",
        "print(f\"Analytical Partial Derivative w.r.t x at ({x0}, {y0}): {analytical_derivative_x}\")\n",
        "\n",
        "print(f\"Numerical Partial Derivative w.r.t y at ({x0}, {y0}): {numerical_derivative_y}\")\n",
        "print(f\"Analytical Partial Derivative w.r.t y at ({x0}, {y0}): {analytical_derivative_y}\")"
      ],
      "metadata": {
        "colab": {
          "base_uri": "https://localhost:8080/"
        },
        "id": "kZPX1rs99HPD",
        "outputId": "68f0c7cd-2c56-437d-a685-482598f4e422"
      },
      "execution_count": 69,
      "outputs": [
        {
          "output_type": "stream",
          "name": "stdout",
          "text": [
            "Numerical Partial Derivative w.r.t x at (2.0, 3.0): 4.000000000026205\n",
            "Analytical Partial Derivative w.r.t x at (2.0, 3.0): 4.00000000000000\n",
            "Numerical Partial Derivative w.r.t y at (2.0, 3.0): 6.000000000039306\n",
            "Analytical Partial Derivative w.r.t y at (2.0, 3.0): 6.00000000000000\n"
          ]
        }
      ]
    },
    {
      "cell_type": "markdown",
      "source": [
        "### 4. Optimization"
      ],
      "metadata": {
        "id": "Cj0r50Jy_Bxl"
      }
    },
    {
      "cell_type": "code",
      "source": [
        "# Use NumPy to solve optimization problems with constraints.\n",
        "\n",
        "from scipy.optimize import minimize\n",
        "\n",
        "# Define the objective function\n",
        "def objective_function(vars):\n",
        "    x, y = vars\n",
        "    return (x - 1)**2 + (y - 2)**2\n",
        "\n",
        "# Define the constraints\n",
        "constraints = [\n",
        "    {'type': 'ineq', 'fun': lambda vars: vars[0] + vars[1] - 1},  # x + y >= 1\n",
        "    {'type': 'ineq', 'fun': lambda vars: 2 - (vars[0] - vars[1])},  # x - y <= 2\n",
        "    {'type': 'ineq', 'fun': lambda vars: vars[0]},  # x >= 0\n",
        "    {'type': 'ineq', 'fun': lambda vars: vars[1]},  # y >= 0\n",
        "]\n",
        "\n",
        "# Initial guess\n",
        "initial_guess = [0.5, 0.5]\n",
        "\n",
        "# Perform the optimization\n",
        "result = minimize(objective_function, initial_guess, constraints=constraints)\n",
        "\n",
        "# Print the results\n",
        "if result.success:\n",
        "    optimized_x, optimized_y = result.x\n",
        "    print(f\"Optimal solution found: x = {optimized_x}, y = {optimized_y}\")\n",
        "    print(f\"Minimum value of the objective function: {result.fun}\")\n",
        "else:\n",
        "    print(\"Optimization failed:\", result.message)"
      ],
      "metadata": {
        "colab": {
          "base_uri": "https://localhost:8080/"
        },
        "id": "j2Zes9Xm_EJk",
        "outputId": "45d36c5b-9c7b-4f08-afc6-7cd234288b42"
      },
      "execution_count": 71,
      "outputs": [
        {
          "output_type": "stream",
          "name": "stdout",
          "text": [
            "Optimal solution found: x = 1.0, y = 2.0\n",
            "Minimum value of the objective function: 0.0\n"
          ]
        }
      ]
    }
  ]
}
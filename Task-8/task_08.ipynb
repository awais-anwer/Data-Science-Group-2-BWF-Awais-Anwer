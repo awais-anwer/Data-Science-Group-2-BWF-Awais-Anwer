{
  "nbformat": 4,
  "nbformat_minor": 0,
  "metadata": {
    "colab": {
      "provenance": []
    },
    "kernelspec": {
      "name": "python3",
      "display_name": "Python 3"
    },
    "language_info": {
      "name": "python"
    }
  },
  "cells": [
    {
      "cell_type": "markdown",
      "source": [
        "### This is task 08 of bytewise fellowship program. Data Science track\n",
        "### submitted by: Awais Anwer"
      ],
      "metadata": {
        "id": "olL-OnCB1vuC"
      }
    },
    {
      "cell_type": "code",
      "execution_count": 7,
      "metadata": {
        "id": "wX7lbyzD1ng9"
      },
      "outputs": [],
      "source": [
        "# Dictionary, list and set\n",
        "products = {}\n",
        "product_order = []\n",
        "categories = set()"
      ]
    },
    {
      "cell_type": "code",
      "source": [
        "def add_product(product_id, name, category, stock):\n",
        "    if product_id in products:\n",
        "        print(f\"Product ID {product_id} already exists.\")\n",
        "        return\n",
        "\n",
        "    product_info = (name, category)\n",
        "    products[product_id] = {'info': product_info, 'stock': stock}\n",
        "    product_order.append(product_id)\n",
        "    categories.add(category)\n",
        "\n",
        "    print(f\"Product {name} added successfully.\")"
      ],
      "metadata": {
        "id": "ESvYtxBu3nzR"
      },
      "execution_count": 8,
      "outputs": []
    },
    {
      "cell_type": "code",
      "source": [
        "def update_stock(product_id, quantity):\n",
        "    if product_id not in products:\n",
        "        print(f\"Product ID {product_id} not found.\")\n",
        "        return\n",
        "\n",
        "    # Update stock level\n",
        "    products[product_id]['stock'] += quantity\n",
        "\n",
        "    print(f\"Stock updated successfully. New stock for Product ID {product_id}: {products[product_id]['stock']}\")\n"
      ],
      "metadata": {
        "id": "wYhx4oab35ZV"
      },
      "execution_count": 9,
      "outputs": []
    },
    {
      "cell_type": "code",
      "source": [
        "def display_products():\n",
        "    if not products:\n",
        "        print(\"No products available.\")\n",
        "        return\n",
        "\n",
        "    print(\"All Products:\")\n",
        "    for product_id in product_order:\n",
        "        name, category = products[product_id]['info']\n",
        "        stock = products[product_id]['stock']\n",
        "        print(f\"ID: {product_id}, Name: {name}, Category: {category}, Stock: {stock}\")\n"
      ],
      "metadata": {
        "id": "HRnYfzeB4Its"
      },
      "execution_count": 10,
      "outputs": []
    },
    {
      "cell_type": "code",
      "source": [
        "def display_by_category(category):\n",
        "    if category not in categories:\n",
        "        print(f\"No products found in category {category}.\")\n",
        "        return\n",
        "\n",
        "    print(f\"Products in Category '{category}':\")\n",
        "    for product_id in product_order:\n",
        "        name, product_category = products[product_id]['info']\n",
        "        if product_category == category:\n",
        "            stock = products[product_id]['stock']\n",
        "            print(f\"ID: {product_id}, Name: {name}, Stock: {stock}\")\n"
      ],
      "metadata": {
        "id": "fIEiD5bo4Pfc"
      },
      "execution_count": 11,
      "outputs": []
    },
    {
      "cell_type": "code",
      "source": [
        "# Adding multiple products\n",
        "add_product('ID001', 'Oil', 'Category1', 50)\n",
        "add_product('ID002', 'Mango', 'Category2', 30)\n",
        "add_product('ID003', 'Ghee', 'Category1', 20)\n",
        "\n",
        "update_stock('ID001', 10)\n",
        "update_stock('ID003', -5)\n",
        "\n",
        "display_products()\n",
        "\n",
        "display_by_category('Category1')\n",
        "display_by_category('Category2')\n",
        "display_by_category('Category3')\n"
      ],
      "metadata": {
        "colab": {
          "base_uri": "https://localhost:8080/"
        },
        "id": "hE41luys4XRM",
        "outputId": "090eb644-ece7-45c9-f92e-42cbf7ef0c35"
      },
      "execution_count": 12,
      "outputs": [
        {
          "output_type": "stream",
          "name": "stdout",
          "text": [
            "Product Oil added successfully.\n",
            "Product Mango added successfully.\n",
            "Product Ghee added successfully.\n",
            "Stock updated successfully. New stock for Product ID ID001: 60\n",
            "Stock updated successfully. New stock for Product ID ID003: 15\n",
            "All Products:\n",
            "ID: ID001, Name: Oil, Category: Category1, Stock: 60\n",
            "ID: ID002, Name: Mango, Category: Category2, Stock: 30\n",
            "ID: ID003, Name: Ghee, Category: Category1, Stock: 15\n",
            "Products in Category 'Category1':\n",
            "ID: ID001, Name: Oil, Stock: 60\n",
            "ID: ID003, Name: Ghee, Stock: 15\n",
            "Products in Category 'Category2':\n",
            "ID: ID002, Name: Mango, Stock: 30\n",
            "No products found in category Category3.\n"
          ]
        }
      ]
    }
  ]
}
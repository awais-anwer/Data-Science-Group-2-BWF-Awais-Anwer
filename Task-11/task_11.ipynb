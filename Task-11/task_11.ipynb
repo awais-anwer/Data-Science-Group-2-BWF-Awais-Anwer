{
  "nbformat": 4,
  "nbformat_minor": 0,
  "metadata": {
    "colab": {
      "provenance": []
    },
    "kernelspec": {
      "name": "python3",
      "display_name": "Python 3"
    },
    "language_info": {
      "name": "python"
    }
  },
  "cells": [
    {
      "cell_type": "markdown",
      "source": [
        "### Task 11: NumPy advanced operations (indexing, slicing, broadcasting)\n",
        "#### Submitted by: Awais Anwer"
      ],
      "metadata": {
        "id": "dsXIo7fJcgeW"
      }
    },
    {
      "cell_type": "markdown",
      "source": [
        "#### Indexing and Slicing"
      ],
      "metadata": {
        "id": "uBFMlDRAdysq"
      }
    },
    {
      "cell_type": "code",
      "execution_count": 2,
      "metadata": {
        "id": "60G62q3Ecd-5"
      },
      "outputs": [],
      "source": [
        "# Given a 2D array of shape (6, 6), extract a 2x2 sub-array starting from the element at position (1, 1).\n",
        "# From a 3D array of shape (3, 2, 1), extract all elements in the first two rows and all columns of the second slice along the third axis.\n",
        "# Given an array of integers, use fancy indexing to extract elements at positions [1, 3, 4, 6].\n",
        "# Given a 2D array, use fancy indexing to select rows [0, 2, 2] and columns [1, 3].\n",
        "# From a 1D array of random integers, extract all elements that are greater than 8.\n",
        "# Given a 2D array of shape (6, 6), replace all elements greater than 13 with the value 0."
      ]
    },
    {
      "cell_type": "code",
      "source": [
        "import numpy as np"
      ],
      "metadata": {
        "id": "rmfk_UTMdFwq"
      },
      "execution_count": 3,
      "outputs": []
    },
    {
      "cell_type": "code",
      "source": [
        "# Given a 2D array of shape (6, 6), extract a 2x2 sub-array starting from the element at position (1, 1).\n",
        "arr = np.arange(36).reshape(6, 6)\n",
        "sub_array = arr[1:3, 1:3]\n",
        "print(sub_array)"
      ],
      "metadata": {
        "colab": {
          "base_uri": "https://localhost:8080/"
        },
        "id": "xoKwk_v_c3sn",
        "outputId": "d25f2925-3e83-4bae-e547-8a26fc407c68"
      },
      "execution_count": 4,
      "outputs": [
        {
          "output_type": "stream",
          "name": "stdout",
          "text": [
            "[[ 7  8]\n",
            " [13 14]]\n"
          ]
        }
      ]
    },
    {
      "cell_type": "code",
      "source": [
        "arr"
      ],
      "metadata": {
        "colab": {
          "base_uri": "https://localhost:8080/"
        },
        "id": "2L4VzYDndWKC",
        "outputId": "61d5a2e2-52b1-4d6f-8305-9c13470469ba"
      },
      "execution_count": 5,
      "outputs": [
        {
          "output_type": "execute_result",
          "data": {
            "text/plain": [
              "array([[ 0,  1,  2,  3,  4,  5],\n",
              "       [ 6,  7,  8,  9, 10, 11],\n",
              "       [12, 13, 14, 15, 16, 17],\n",
              "       [18, 19, 20, 21, 22, 23],\n",
              "       [24, 25, 26, 27, 28, 29],\n",
              "       [30, 31, 32, 33, 34, 35]])"
            ]
          },
          "metadata": {},
          "execution_count": 5
        }
      ]
    },
    {
      "cell_type": "code",
      "source": [
        "# From a 3D array of shape (3, 2, 1), extract all elements in the first two rows and all columns of the second slice along the third axis.\n",
        "arr = np.arange(6).reshape(3, 2, 1)\n",
        "print(\"3D Array:\")\n",
        "print(arr)\n",
        "\n",
        "sub_arr = arr[1, :, :]\n",
        "print(\"\\nSub Array: \")\n",
        "print(sub_arr)"
      ],
      "metadata": {
        "colab": {
          "base_uri": "https://localhost:8080/"
        },
        "id": "hZQJ8skVdj4Z",
        "outputId": "97b5d951-47e7-4ee1-c702-03b65567bb68"
      },
      "execution_count": 6,
      "outputs": [
        {
          "output_type": "stream",
          "name": "stdout",
          "text": [
            "3D Array:\n",
            "[[[0]\n",
            "  [1]]\n",
            "\n",
            " [[2]\n",
            "  [3]]\n",
            "\n",
            " [[4]\n",
            "  [5]]]\n",
            "\n",
            "Sub Array: \n",
            "[[2]\n",
            " [3]]\n"
          ]
        }
      ]
    },
    {
      "cell_type": "code",
      "source": [
        "# Given an array of integers, use fancy indexing to extract elements at positions [1, 3, 4, 6].\n",
        "arr = np.array([1, 2, 3, 4, 5, 6, 7, 8, 9])\n",
        "indices = [1, 3, 4, 6]\n",
        "print(arr[indices])"
      ],
      "metadata": {
        "colab": {
          "base_uri": "https://localhost:8080/"
        },
        "id": "U-vbg-ffgC2W",
        "outputId": "e95fcc6b-35a9-460d-90a1-c6e4b50df21b"
      },
      "execution_count": 7,
      "outputs": [
        {
          "output_type": "stream",
          "name": "stdout",
          "text": [
            "[2 4 5 7]\n"
          ]
        }
      ]
    },
    {
      "cell_type": "code",
      "source": [
        "# Given a 2D array, use fancy indexing to select rows [0, 2, 2] and columns [1, 3].\n",
        "arr = np.arange(12).reshape(3, 4)\n",
        "rows = np.array([0, 2, 2])\n",
        "cols = np.array([1, 3])\n",
        "print(\"Actual 2D array:\")\n",
        "print(arr)\n",
        "print(\"\\nSub array:\")\n",
        "print(arr[rows[:, np.newaxis], cols])"
      ],
      "metadata": {
        "colab": {
          "base_uri": "https://localhost:8080/"
        },
        "id": "PKNIwx3ohG7z",
        "outputId": "be802ec7-48dc-4563-8f43-03e4f10216fb"
      },
      "execution_count": 8,
      "outputs": [
        {
          "output_type": "stream",
          "name": "stdout",
          "text": [
            "Actual 2D array:\n",
            "[[ 0  1  2  3]\n",
            " [ 4  5  6  7]\n",
            " [ 8  9 10 11]]\n",
            "\n",
            "Sub array:\n",
            "[[ 1  3]\n",
            " [ 9 11]\n",
            " [ 9 11]]\n"
          ]
        }
      ]
    },
    {
      "cell_type": "code",
      "source": [
        "# From a 1D array of random integers, extract all elements that are greater than 8.\n",
        "arr = np.random.randint(20, size=20)\n",
        "print(\"Original array:\")\n",
        "print(arr)\n",
        "print(\"\\nElements greater than 8:\")\n",
        "print(arr[arr > 8])"
      ],
      "metadata": {
        "colab": {
          "base_uri": "https://localhost:8080/"
        },
        "id": "AP7XSDSOy0yW",
        "outputId": "44647d7d-80b5-4524-f626-29e6d55da67a"
      },
      "execution_count": 13,
      "outputs": [
        {
          "output_type": "stream",
          "name": "stdout",
          "text": [
            "Original array:\n",
            "[16  3 16 11  1 19  8 16 16 16  3  6 17  6 11 16 19 16 10  7]\n",
            "\n",
            "Elements greater than 8:\n",
            "[16 16 11 19 16 16 16 17 11 16 19 16 10]\n"
          ]
        }
      ]
    },
    {
      "cell_type": "code",
      "source": [
        "# Given a 2D array of shape (6, 6), replace all elements greater than 13 with the value 0.\n",
        "arr = np.arange(36).reshape(6, 6)\n",
        "print(\"Original array:\")\n",
        "print(arr)\n",
        "print(\"\\nModified array:\")\n",
        "arr[arr > 13] = 0\n",
        "print(arr)"
      ],
      "metadata": {
        "colab": {
          "base_uri": "https://localhost:8080/"
        },
        "id": "-HXKy-AlQv4Y",
        "outputId": "3e42e3e6-5ed9-454d-eb6e-636d64a61e7c"
      },
      "execution_count": 14,
      "outputs": [
        {
          "output_type": "stream",
          "name": "stdout",
          "text": [
            "Original array:\n",
            "[[ 0  1  2  3  4  5]\n",
            " [ 6  7  8  9 10 11]\n",
            " [12 13 14 15 16 17]\n",
            " [18 19 20 21 22 23]\n",
            " [24 25 26 27 28 29]\n",
            " [30 31 32 33 34 35]]\n",
            "\n",
            "Modified array:\n",
            "[[ 0  1  2  3  4  5]\n",
            " [ 6  7  8  9 10 11]\n",
            " [12 13  0  0  0  0]\n",
            " [ 0  0  0  0  0  0]\n",
            " [ 0  0  0  0  0  0]\n",
            " [ 0  0  0  0  0  0]]\n"
          ]
        }
      ]
    },
    {
      "cell_type": "markdown",
      "source": [
        "### Broadcasting"
      ],
      "metadata": {
        "id": "2Tj2Dx6SRHRi"
      }
    },
    {
      "cell_type": "code",
      "source": [
        "# Add a 1D array of shape (3,) to each row of a 2D array of shape (4, 3).\n",
        "# Multiply a 2D array of shape (3, 3) by a 1D array of shape (3,)\n",
        "# Create two 2D arrays of shapes (3, 1) and (1, 4) respectively, and perform element-wise addition.\n",
        "# Given a 3D array of shape (2, 3, 4), add a 2D array of shape (3, 4) to each 2D slice along the first axis."
      ],
      "metadata": {
        "id": "t69PWcPfRM_M"
      },
      "execution_count": 15,
      "outputs": []
    },
    {
      "cell_type": "code",
      "source": [
        "# Add a 1D array of shape (3,) to each row of a 2D array of shape (4, 3).\n",
        "one_d_array = np.array([1, 2, 3])\n",
        "two_d_array = np.arange(12).reshape(4, 3)\n",
        "print(\"Original 1D array:\")\n",
        "print(one_d_array)\n",
        "print(\"\\nOriginal 2D array:\")\n",
        "print(two_d_array)\n",
        "print(\"\\nAdded 1D array to each row of 2D array:\")\n",
        "print(two_d_array + one_d_array)"
      ],
      "metadata": {
        "colab": {
          "base_uri": "https://localhost:8080/"
        },
        "id": "EK71nqpKRexZ",
        "outputId": "a23779f0-0885-47de-b36f-65d8eebaecb2"
      },
      "execution_count": 16,
      "outputs": [
        {
          "output_type": "stream",
          "name": "stdout",
          "text": [
            "Original 1D array:\n",
            "[1 2 3]\n",
            "\n",
            "Original 2D array:\n",
            "[[ 0  1  2]\n",
            " [ 3  4  5]\n",
            " [ 6  7  8]\n",
            " [ 9 10 11]]\n",
            "\n",
            "Added 1D array to each row of 2D array:\n",
            "[[ 1  3  5]\n",
            " [ 4  6  8]\n",
            " [ 7  9 11]\n",
            " [10 12 14]]\n"
          ]
        }
      ]
    },
    {
      "cell_type": "code",
      "source": [
        "# Multiply a 2D array of shape (3, 3) by a 1D array of shape (3,)\n",
        "two_d_array = np.arange(9).reshape(3, 3)\n",
        "one_d_array = np.array([1, 2, 3])\n",
        "result = np.dot(two_d_array, one_d_array)\n",
        "print(result)"
      ],
      "metadata": {
        "colab": {
          "base_uri": "https://localhost:8080/"
        },
        "id": "a7lj9MbYSAQ6",
        "outputId": "65a580a3-8d76-4906-d265-9812e9a9534d"
      },
      "execution_count": 22,
      "outputs": [
        {
          "output_type": "stream",
          "name": "stdout",
          "text": [
            "[ 8 26 44]\n"
          ]
        }
      ]
    },
    {
      "cell_type": "code",
      "source": [
        "# Create two 2D arrays of shapes (3, 1) and (1, 4) respectively, and perform element-wise addition.\n",
        "array1 = np.arange(3).reshape(3, 1)\n",
        "array2 = np.arange(4).reshape(1, 4)\n",
        "print(\"\\narray 1:\")\n",
        "print(array1)\n",
        "print(\"\\narray 2:\")\n",
        "print(array2)\n",
        "print(\"\\nElement-wise addition:\")\n",
        "result = array1 + array2\n",
        "print(result)"
      ],
      "metadata": {
        "colab": {
          "base_uri": "https://localhost:8080/"
        },
        "id": "QRyeaFIJSS_X",
        "outputId": "20267838-d5c3-4dec-8482-8b36b4ea81e5"
      },
      "execution_count": 25,
      "outputs": [
        {
          "output_type": "stream",
          "name": "stdout",
          "text": [
            "\n",
            "array 1:\n",
            "[[0]\n",
            " [1]\n",
            " [2]]\n",
            "\n",
            "array 2:\n",
            "[[0 1 2 3]]\n",
            "\n",
            "Element-wise addition:\n",
            "[[0 1 2 3]\n",
            " [1 2 3 4]\n",
            " [2 3 4 5]]\n"
          ]
        }
      ]
    },
    {
      "cell_type": "code",
      "source": [
        "# Given a 3D array of shape (2, 3, 4), add a 2D array of shape (3, 4) to each 2D slice along the first axis.\n",
        "three_d_array = np.arange(24).reshape(2, 3, 4)\n",
        "two_d_array = np.arange(12).reshape(3, 4)\n",
        "print(\"Original 3D array:\")\n",
        "print(three_d_array)\n",
        "print(\"\\nOriginal 2D array:\")\n",
        "print(two_d_array)\n",
        "print(\"\\nAdded 2D array to each 2D slice along the first axis:\")\n",
        "result = three_d_array + two_d_array\n",
        "print(result)"
      ],
      "metadata": {
        "colab": {
          "base_uri": "https://localhost:8080/"
        },
        "id": "sYzhENtXS6jw",
        "outputId": "d3bbcb37-42fd-4a9b-c748-b4d59f25a1f1"
      },
      "execution_count": 26,
      "outputs": [
        {
          "output_type": "stream",
          "name": "stdout",
          "text": [
            "Original 3D array:\n",
            "[[[ 0  1  2  3]\n",
            "  [ 4  5  6  7]\n",
            "  [ 8  9 10 11]]\n",
            "\n",
            " [[12 13 14 15]\n",
            "  [16 17 18 19]\n",
            "  [20 21 22 23]]]\n",
            "\n",
            "Original 2D array:\n",
            "[[ 0  1  2  3]\n",
            " [ 4  5  6  7]\n",
            " [ 8  9 10 11]]\n",
            "\n",
            "Added 2D array to each 2D slice along the first axis:\n",
            "[[[ 0  2  4  6]\n",
            "  [ 8 10 12 14]\n",
            "  [16 18 20 22]]\n",
            "\n",
            " [[12 14 16 18]\n",
            "  [20 22 24 26]\n",
            "  [28 30 32 34]]]\n"
          ]
        }
      ]
    },
    {
      "cell_type": "markdown",
      "source": [
        "### See More"
      ],
      "metadata": {
        "id": "HSIWJp5HTWZR"
      }
    },
    {
      "cell_type": "code",
      "source": [
        "# Given a 2D array, use slicing to extract every second row and every second column, then add a 1D array to each row of the sliced array.\n",
        "# From a 3D array of shape (3, 2, 1), extract a sub-array using slicing and then use broadcasting to subtract a 2D array from each slice along the third axis.\n",
        "# Given a 2D array, extract the diagonal elements and create a 1D array.\n",
        "# Use slicing to reverse the order of elements in each row of a 2D array.\n",
        "# Given a 3D array of shape (7, 6, 5), use slicing to extract a sub-array of shape (2, 3, 4) and then use broadcasting to add a 1D array of shape (4,) to each row along the third axis.\n",
        "# Create a 2D array and use both slicing and broadcasting to set the last column to the sum of the first two columns for each row."
      ],
      "metadata": {
        "id": "zhyFwrLjTX8F"
      },
      "execution_count": 27,
      "outputs": []
    },
    {
      "cell_type": "code",
      "source": [
        "# Given a 2D array, use slicing to extract every second row and every second column, then add a 1D array to each row of the sliced array.\n",
        "two_d_array = np.arange(12).reshape(3, 4)\n",
        "print(\"Original 2D array:\")\n",
        "print(two_d_array)\n",
        "sliced_array = two_d_array[::2, ::2]\n",
        "print(\"\\nSliced array:\")\n",
        "print(sliced_array)\n",
        "one_d_array = np.array([3, 4])\n",
        "print(\"\\n1D array:\")\n",
        "print(one_d_array)\n",
        "result = sliced_array + one_d_array\n",
        "print(\"\\nResult:\")\n",
        "print(result)"
      ],
      "metadata": {
        "colab": {
          "base_uri": "https://localhost:8080/"
        },
        "id": "BLmKt1HPUvxo",
        "outputId": "a19d03f9-fa36-4081-bb08-a404173f8a32"
      },
      "execution_count": 33,
      "outputs": [
        {
          "output_type": "stream",
          "name": "stdout",
          "text": [
            "Original 2D array:\n",
            "[[ 0  1  2  3]\n",
            " [ 4  5  6  7]\n",
            " [ 8  9 10 11]]\n",
            "\n",
            "Sliced array:\n",
            "[[ 0  2]\n",
            " [ 8 10]]\n",
            "\n",
            "1D array:\n",
            "[3 4]\n",
            "\n",
            "Result:\n",
            "[[ 3  6]\n",
            " [11 14]]\n"
          ]
        }
      ]
    },
    {
      "cell_type": "code",
      "source": [
        "# From a 3D array of shape (3, 2, 1), extract a sub-array using slicing and then use broadcasting to subtract a 2D array from each slice along the third axis.\n",
        "three_d_array = np.arange(6).reshape(3, 2, 1)\n",
        "print(\"Original 3D array:\")\n",
        "print(three_d_array)\n",
        "sliced_array = three_d_array[:, :, :1]\n",
        "print(\"\\nSliced array:\")\n",
        "print(sliced_array)\n",
        "\n",
        "two_d_array = np.arange(4).reshape(2, 2)\n",
        "print(\"\\n2D array:\")\n",
        "print(two_d_array)\n",
        "result = sliced_array - two_d_array\n",
        "print(\"\\nResult:\")\n",
        "print(result)"
      ],
      "metadata": {
        "colab": {
          "base_uri": "https://localhost:8080/"
        },
        "id": "nadtdUoDWdHg",
        "outputId": "c80a0afd-0db8-417f-9e2f-dd78c76bacd1"
      },
      "execution_count": 37,
      "outputs": [
        {
          "metadata": {
            "tags": null
          },
          "name": "stdout",
          "output_type": "stream",
          "text": [
            "Original 3D array:\n",
            "[[[0]\n",
            "  [1]]\n",
            "\n",
            " [[2]\n",
            "  [3]]\n",
            "\n",
            " [[4]\n",
            "  [5]]]\n",
            "\n",
            "Sliced array:\n",
            "[[[0]\n",
            "  [1]]\n",
            "\n",
            " [[2]\n",
            "  [3]]\n",
            "\n",
            " [[4]\n",
            "  [5]]]\n",
            "\n",
            "2D array:\n",
            "[[0 1]\n",
            " [2 3]]\n",
            "\n",
            "Result:\n",
            "[[[ 0 -1]\n",
            "  [-1 -2]]\n",
            "\n",
            " [[ 2  1]\n",
            "  [ 1  0]]\n",
            "\n",
            " [[ 4  3]\n",
            "  [ 3  2]]]\n"
          ]
        }
      ]
    },
    {
      "cell_type": "code",
      "source": [
        "# Given a 2D array, extract the diagonal elements and create a 1D array.\n",
        "two_d_array = np.arange(9).reshape(3, 3)\n",
        "print(\"Original 2D array:\")\n",
        "print(two_d_array)\n",
        "print(\"\\nDiagonal elements:\")\n",
        "diagonal_array = np.diag(two_d_array)\n",
        "print(diagonal_array)"
      ],
      "metadata": {
        "colab": {
          "base_uri": "https://localhost:8080/"
        },
        "id": "r_jjTPyiXh6Y",
        "outputId": "bd026e5d-d690-4e50-a20c-0f291b5c2c89"
      },
      "execution_count": 39,
      "outputs": [
        {
          "output_type": "stream",
          "name": "stdout",
          "text": [
            "Original 2D array:\n",
            "[[0 1 2]\n",
            " [3 4 5]\n",
            " [6 7 8]]\n",
            "\n",
            "Diagonal elements:\n",
            "[0 4 8]\n"
          ]
        }
      ]
    },
    {
      "cell_type": "code",
      "source": [
        "# Use slicing to reverse the order of elements in each row of a 2D array.\n",
        "two_d_array = np.arange(12).reshape(3, 4)\n",
        "print(\"Original 2D array:\")\n",
        "print(two_d_array)\n",
        "print(\"\\nReversed array:\")\n",
        "reversed_array = two_d_array[:, ::-1]\n",
        "print(reversed_array)"
      ],
      "metadata": {
        "colab": {
          "base_uri": "https://localhost:8080/"
        },
        "id": "dWWwlzTRX0Mm",
        "outputId": "ed6d98d3-6c0c-48cf-c191-80401cb92442"
      },
      "execution_count": 43,
      "outputs": [
        {
          "output_type": "stream",
          "name": "stdout",
          "text": [
            "Original 2D array:\n",
            "[[ 0  1  2  3]\n",
            " [ 4  5  6  7]\n",
            " [ 8  9 10 11]]\n",
            "\n",
            "Reversed array:\n",
            "[[ 3  2  1  0]\n",
            " [ 7  6  5  4]\n",
            " [11 10  9  8]]\n"
          ]
        }
      ]
    },
    {
      "cell_type": "code",
      "source": [
        "# Given a 3D array of shape (7, 6, 5), use slicing to extract a sub-array of shape (2, 3, 4) and then use broadcasting to add a 1D array of shape (4,) to each row along the third axis.\n",
        "three_d_array = np.random.randint(10, size=(7, 6, 5))\n",
        "print(\"Original 3D array:\")\n",
        "print(three_d_array)\n",
        "sliced_array = three_d_array[:2, :3, :4]\n",
        "print(\"\\nSliced array:\")\n",
        "print(sliced_array)\n",
        "\n",
        "one_d_array = np.arange(4)\n",
        "print(\"\\n1D array:\")\n",
        "print(one_d_array)\n",
        "result = sliced_array + one_d_array\n",
        "print(\"\\nResult:\")\n",
        "print(result)"
      ],
      "metadata": {
        "colab": {
          "base_uri": "https://localhost:8080/"
        },
        "id": "ZgXqv3zOYkSp",
        "outputId": "e6905734-a053-41f7-c832-ecbecdd8923f"
      },
      "execution_count": 44,
      "outputs": [
        {
          "output_type": "stream",
          "name": "stdout",
          "text": [
            "Original 3D array:\n",
            "[[[7 4 8 5 3]\n",
            "  [4 6 0 9 7]\n",
            "  [1 1 6 3 8]\n",
            "  [5 1 7 3 9]\n",
            "  [9 8 3 0 6]\n",
            "  [0 9 5 7 8]]\n",
            "\n",
            " [[8 2 7 3 7]\n",
            "  [3 4 0 0 9]\n",
            "  [9 7 8 8 4]\n",
            "  [4 1 4 5 0]\n",
            "  [9 9 2 9 9]\n",
            "  [1 4 2 9 4]]\n",
            "\n",
            " [[2 8 7 6 6]\n",
            "  [3 9 6 9 9]\n",
            "  [7 1 6 0 9]\n",
            "  [2 6 6 4 6]\n",
            "  [2 0 8 0 0]\n",
            "  [3 9 3 9 4]]\n",
            "\n",
            " [[4 1 7 6 6]\n",
            "  [5 3 5 5 3]\n",
            "  [7 9 0 5 8]\n",
            "  [4 9 9 7 8]\n",
            "  [4 4 6 8 3]\n",
            "  [3 5 8 7 1]]\n",
            "\n",
            " [[2 3 5 5 1]\n",
            "  [6 1 6 1 3]\n",
            "  [2 8 6 5 4]\n",
            "  [3 4 2 0 0]\n",
            "  [8 3 6 8 9]\n",
            "  [4 1 3 9 1]]\n",
            "\n",
            " [[7 1 9 8 4]\n",
            "  [5 8 0 7 2]\n",
            "  [9 0 7 7 9]\n",
            "  [2 5 0 7 8]\n",
            "  [5 9 4 9 7]\n",
            "  [5 3 0 1 5]]\n",
            "\n",
            " [[3 4 0 3 5]\n",
            "  [5 3 6 3 4]\n",
            "  [0 9 3 4 1]\n",
            "  [0 9 2 8 0]\n",
            "  [7 3 7 7 3]\n",
            "  [7 2 9 0 1]]]\n",
            "\n",
            "Sliced array:\n",
            "[[[7 4 8 5]\n",
            "  [4 6 0 9]\n",
            "  [1 1 6 3]]\n",
            "\n",
            " [[8 2 7 3]\n",
            "  [3 4 0 0]\n",
            "  [9 7 8 8]]]\n",
            "\n",
            "1D array:\n",
            "[0 1 2 3]\n",
            "\n",
            "Result:\n",
            "[[[ 7  5 10  8]\n",
            "  [ 4  7  2 12]\n",
            "  [ 1  2  8  6]]\n",
            "\n",
            " [[ 8  3  9  6]\n",
            "  [ 3  5  2  3]\n",
            "  [ 9  8 10 11]]]\n"
          ]
        }
      ]
    },
    {
      "cell_type": "code",
      "source": [
        "# Create a 2D array and use both slicing and broadcasting to set the last column to the sum of the first two columns for each row.\n",
        "two_d_array = np.random.randint(10, size=(3, 4))\n",
        "print(\"Original 2D array:\")\n",
        "print(two_d_array)\n",
        "print(\"\\nLast column set to sum of first two columns:\")\n",
        "two_d_array[:, -1] = two_d_array[:, 0] + two_d_array[:, 1]\n",
        "print(two_d_array)"
      ],
      "metadata": {
        "colab": {
          "base_uri": "https://localhost:8080/"
        },
        "id": "eXCDui39ZBLX",
        "outputId": "b10eef57-2999-45c3-8e43-8b9267d8238a"
      },
      "execution_count": 47,
      "outputs": [
        {
          "output_type": "stream",
          "name": "stdout",
          "text": [
            "Original 2D array:\n",
            "[[6 3 5 2]\n",
            " [5 4 0 2]\n",
            " [5 5 0 8]]\n",
            "\n",
            "Last column set to sum of first two columns:\n",
            "[[ 6  3  5  9]\n",
            " [ 5  4  0  9]\n",
            " [ 5  5  0 10]]\n"
          ]
        }
      ]
    }
  ]
}
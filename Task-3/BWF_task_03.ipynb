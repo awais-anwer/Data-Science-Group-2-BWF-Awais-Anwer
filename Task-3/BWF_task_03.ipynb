{
  "nbformat": 4,
  "nbformat_minor": 0,
  "metadata": {
    "colab": {
      "provenance": []
    },
    "kernelspec": {
      "name": "python3",
      "display_name": "Python 3"
    },
    "language_info": {
      "name": "python"
    }
  },
  "cells": [
    {
      "cell_type": "markdown",
      "source": [
        "### This notebook is for Bitewise fellowship task 3"
      ],
      "metadata": {
        "id": "Qbu8pIUbg5yq"
      }
    },
    {
      "cell_type": "code",
      "execution_count": 1,
      "metadata": {
        "id": "up8s6d_5g4eU"
      },
      "outputs": [],
      "source": [
        "## i will add some dummy headings just for representation\n",
        "## python code here"
      ]
    },
    {
      "cell_type": "markdown",
      "source": [
        "## 1. Problem Definition\n"
      ],
      "metadata": {
        "id": "0Jf6FgWfiPnp"
      }
    },
    {
      "cell_type": "markdown",
      "source": [
        "## 2. Data Exploration"
      ],
      "metadata": {
        "id": "OUCSpvfbidtX"
      }
    },
    {
      "cell_type": "code",
      "source": [
        "## do some EDA here"
      ],
      "metadata": {
        "id": "1uN9FJ2NiPGy"
      },
      "execution_count": 2,
      "outputs": []
    },
    {
      "cell_type": "markdown",
      "source": [
        "## 3. Modeling"
      ],
      "metadata": {
        "id": "fBQCV90eiszq"
      }
    },
    {
      "cell_type": "code",
      "source": [
        "## build and train model here"
      ],
      "metadata": {
        "id": "3yH1Y0aXisYG"
      },
      "execution_count": null,
      "outputs": []
    }
  ]
}
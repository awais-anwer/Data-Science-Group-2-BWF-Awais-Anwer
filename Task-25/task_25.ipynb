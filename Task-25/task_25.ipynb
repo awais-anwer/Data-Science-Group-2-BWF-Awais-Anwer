{
  "nbformat": 4,
  "nbformat_minor": 0,
  "metadata": {
    "colab": {
      "provenance": []
    },
    "kernelspec": {
      "name": "python3",
      "display_name": "Python 3"
    },
    "language_info": {
      "name": "python"
    }
  },
  "cells": [
    {
      "cell_type": "markdown",
      "source": [
        "## Task 25-> Logistic Regression from scratch\n",
        "Submitted by: Awais Anwer"
      ],
      "metadata": {
        "id": "qG_-T2kQ8GNM"
      }
    },
    {
      "cell_type": "code",
      "source": [
        "import numpy as np\n",
        "import seaborn as sns\n",
        "import matplotlib.pyplot as plt\n",
        "from sklearn.model_selection import train_test_split\n",
        "from sklearn import datasets\n",
        "from sklearn.metrics import confusion_matrix, accuracy_score"
      ],
      "metadata": {
        "id": "L7EYb4oD3mwk"
      },
      "execution_count": null,
      "outputs": []
    },
    {
      "cell_type": "code",
      "execution_count": null,
      "metadata": {
        "id": "bvMTR-TBH2Ir"
      },
      "outputs": [],
      "source": [
        "def sigmoid(x):\n",
        "    return 1 / (1 + np.exp(-x))"
      ]
    },
    {
      "cell_type": "code",
      "source": [
        "def compute_loss(y_true, y_pred):\n",
        "    epsilon = 1e-9\n",
        "    y1 = y_true * np.log(y_pred + epsilon)\n",
        "    y2 = (1 - y_true) * np.log(1 - y_pred + epsilon)\n",
        "    return -np.mean(y1 + y2)"
      ],
      "metadata": {
        "id": "1Keh_pz43kZu"
      },
      "execution_count": null,
      "outputs": []
    },
    {
      "cell_type": "code",
      "source": [
        "def feed_forward(X, weights, bias):\n",
        "    z = np.dot(X, weights) + bias\n",
        "    return sigmoid(z)"
      ],
      "metadata": {
        "id": "PlnnIIkk5Zpk"
      },
      "execution_count": null,
      "outputs": []
    },
    {
      "cell_type": "code",
      "source": [
        "def fit(X, y, learning_rate=0.001, n_iters=1000):\n",
        "    n_samples, n_features = X.shape\n",
        "    weights = np.zeros(n_features)\n",
        "    bias = 0\n",
        "    losses = []\n",
        "\n",
        "    for _ in range(n_iters):\n",
        "        A = feed_forward(X, weights, bias)\n",
        "        losses.append(compute_loss(y, A))\n",
        "        dz = A - y\n",
        "        dw = (1 / n_samples) * np.dot(X.T, dz)\n",
        "        db = (1 / n_samples) * np.sum(dz)\n",
        "        weights -= learning_rate * dw\n",
        "        bias -= learning_rate * db\n",
        "\n",
        "    return weights, bias, losses"
      ],
      "metadata": {
        "id": "0rK6V7C24W3q"
      },
      "execution_count": null,
      "outputs": []
    },
    {
      "cell_type": "code",
      "source": [
        "def predict(X, weights, bias, threshold=0.5):\n",
        "    y_hat = np.dot(X, weights) + bias\n",
        "    y_predicted = sigmoid(y_hat)\n",
        "    y_predicted_cls = [1 if i > threshold else 0 for i in y_predicted]\n",
        "    return np.array(y_predicted_cls)"
      ],
      "metadata": {
        "id": "_Lm_lzPt5RQj"
      },
      "execution_count": null,
      "outputs": []
    },
    {
      "cell_type": "code",
      "source": [
        "dataset = datasets.load_breast_cancer()\n",
        "X, y = dataset.data, dataset.target"
      ],
      "metadata": {
        "id": "groBoh-w7IxB"
      },
      "execution_count": null,
      "outputs": []
    },
    {
      "cell_type": "code",
      "source": [
        "X"
      ],
      "metadata": {
        "colab": {
          "base_uri": "https://localhost:8080/"
        },
        "id": "FXaQ-FV77Kxm",
        "outputId": "7e67ade3-22dd-4b96-8b20-b44e60cbaca0"
      },
      "execution_count": null,
      "outputs": [
        {
          "output_type": "execute_result",
          "data": {
            "text/plain": [
              "array([[1.799e+01, 1.038e+01, 1.228e+02, ..., 2.654e-01, 4.601e-01,\n",
              "        1.189e-01],\n",
              "       [2.057e+01, 1.777e+01, 1.329e+02, ..., 1.860e-01, 2.750e-01,\n",
              "        8.902e-02],\n",
              "       [1.969e+01, 2.125e+01, 1.300e+02, ..., 2.430e-01, 3.613e-01,\n",
              "        8.758e-02],\n",
              "       ...,\n",
              "       [1.660e+01, 2.808e+01, 1.083e+02, ..., 1.418e-01, 2.218e-01,\n",
              "        7.820e-02],\n",
              "       [2.060e+01, 2.933e+01, 1.401e+02, ..., 2.650e-01, 4.087e-01,\n",
              "        1.240e-01],\n",
              "       [7.760e+00, 2.454e+01, 4.792e+01, ..., 0.000e+00, 2.871e-01,\n",
              "        7.039e-02]])"
            ]
          },
          "metadata": {},
          "execution_count": 18
        }
      ]
    },
    {
      "cell_type": "code",
      "source": [
        "X_train, X_test, y_train, y_test = train_test_split(X, y, test_size=0.2, random_state=1234)\n",
        "\n",
        "# model training\n",
        "learning_rate = 0.0001\n",
        "n_iters = 1000\n",
        "weights, bias, losses = fit(X_train, y_train, learning_rate, n_iters)"
      ],
      "metadata": {
        "id": "t2qeX7577WyB"
      },
      "execution_count": null,
      "outputs": []
    },
    {
      "cell_type": "code",
      "source": [
        "# Make predictions\n",
        "predictions = predict(X_test, weights, bias)\n",
        "\n",
        "accuracy = accuracy_score(y_test, predictions)\n",
        "cm = confusion_matrix(y_test, predictions)\n",
        "\n",
        "print(f\"Test accuracy: {accuracy:.3f}\")\n",
        "\n",
        "# confusion matrix\n",
        "plt.figure(figsize=(10, 7))\n",
        "sns.heatmap(cm, annot=True, fmt='d', cmap='Blues')\n",
        "plt.xlabel('Predicted')\n",
        "plt.ylabel('Actual')\n",
        "plt.title('Confusion Matrix')\n",
        "plt.show()"
      ],
      "metadata": {
        "colab": {
          "base_uri": "https://localhost:8080/",
          "height": 658
        },
        "id": "1Px9ynDx7bdP",
        "outputId": "adf8ac7d-e2cc-46b4-b641-4923f89d4272"
      },
      "execution_count": 23,
      "outputs": [
        {
          "output_type": "stream",
          "name": "stdout",
          "text": [
            "Test accuracy: 0.930\n"
          ]
        },
        {
          "output_type": "display_data",
          "data": {
            "text/plain": [
              "<Figure size 1000x700 with 2 Axes>"
            ],
            "image/png": "[encoded data removed]"
          },
          "metadata": {}
        }
      ]
    }
  ]
}
{
  "nbformat": 4,
  "nbformat_minor": 0,
  "metadata": {
    "colab": {
      "provenance": []
    },
    "kernelspec": {
      "name": "python3",
      "display_name": "Python 3"
    },
    "language_info": {
      "name": "python"
    }
  },
  "cells": [
    {
      "cell_type": "markdown",
      "source": [
        "### this is the task no 7 of Bytewise Fellowship.\n",
        "### submitted by: Awais Anwer"
      ],
      "metadata": {
        "id": "IoZlmaIwt9lj"
      }
    },
    {
      "cell_type": "code",
      "execution_count": 14,
      "metadata": {
        "id": "k2C-oixqwW5E"
      },
      "outputs": [],
      "source": [
        "# Book class\n",
        "class Book:\n",
        "  def __init__(self, title, author, ISBN, status):\n",
        "    self.title = title\n",
        "    self.author = author\n",
        "    self.ISBN = ISBN\n",
        "    self.status = status\n",
        "\n",
        "  def display_info(self):\n",
        "    return f\"Title: {self.title}, Author: {self.author}, ISBN: {self.ISBN}, Status: {self.status}\"\n",
        "\n",
        "  def mark_borrowed(self):\n",
        "    if self.status == \"available\":\n",
        "      self.status = \"borrowed\"\n",
        "      return True\n",
        "    else:\n",
        "      return False\n",
        "\n",
        "  def mark_returned(self):\n",
        "    if self.status == \"borrowed\":\n",
        "      self.status = \"available\"\n",
        "      return True\n",
        "    else:\n",
        "      return False"
      ]
    },
    {
      "cell_type": "code",
      "source": [
        "# member class\n",
        "class Member:\n",
        "  def __init__(self, name, member_id):\n",
        "    self.name = name\n",
        "    self.member_id = member_id\n",
        "    self.borrowed_books = []\n",
        "\n",
        "  def borrow_book(self, book):\n",
        "    if book.mark_borrowed():\n",
        "      self.borrowed_books.append(book)\n",
        "      return True\n",
        "    else:\n",
        "      return False\n",
        "\n",
        "  def return_book(self, book):\n",
        "    if book in self.borrowed_books and book.mark_returned():\n",
        "      self.borrowed_books.remove(book)\n",
        "      return True\n",
        "    else:\n",
        "      return False\n",
        "\n",
        "  def display_info(self):\n",
        "    borrowed_books_info = ', '.join([book.title for book in self.borrowed_books])\n",
        "    return f\"Member ID: {self.member_id}, Name: {self.name}, Borrowed Books: [{borrowed_books_info}]\""
      ],
      "metadata": {
        "id": "Z_h5MBrExvx5"
      },
      "execution_count": 16,
      "outputs": []
    },
    {
      "cell_type": "code",
      "source": [
        "# Library class\n",
        "#Attributes: list of books, list of members\n",
        "#Methods: add book, register member, issue book, return book, display all books, display all members\n",
        "\n",
        "\n",
        "class Library:\n",
        "  def __init__(self):\n",
        "    self.books = []\n",
        "    self.members = []\n",
        "\n",
        "  def add_book(self, book):\n",
        "    self.books.append(book)\n",
        "\n",
        "  def register_member(self, member):\n",
        "    self.members.append(member)\n",
        "\n",
        "  def display_all_books(self):\n",
        "    for book in self.books:\n",
        "            print(book.display_info())\n",
        "\n",
        "  def display_all_members(self):\n",
        "    for member in self.members:\n",
        "            print(member.display_info())\n",
        "\n",
        "  def issue_book(self, member_id, ISBN):\n",
        "    member = None\n",
        "    for m in self.members:\n",
        "        if m.member_id == member_id:\n",
        "            member = m\n",
        "            break\n",
        "    book = None\n",
        "    for b in self.books:\n",
        "        if b.ISBN == ISBN:\n",
        "            book = b\n",
        "            break\n",
        "    if member and book:\n",
        "        return member.borrow_book(book)\n",
        "    return False\n",
        "\n",
        "  def return_book(self, member_id, ISBN):\n",
        "    member = None\n",
        "    for m in self.members:\n",
        "      if m.member_id == member_id:\n",
        "        member = m\n",
        "        break\n",
        "    book = None\n",
        "    for b in self.books:\n",
        "      if b.ISBN == ISBN:\n",
        "        book = b\n",
        "        break\n",
        "    if member and book:\n",
        "      return member.return_book(book)\n",
        "\n",
        "    return False"
      ],
      "metadata": {
        "id": "4TwP-0qky3oX"
      },
      "execution_count": 17,
      "outputs": []
    },
    {
      "cell_type": "code",
      "source": [
        "# Create a library instance\n",
        "library = Library()\n",
        "\n",
        "# Add books to the library\n",
        "book1 = Book(\"Pakistan\", \"Awais\", \"1234567890\", \"available\")\n",
        "book2 = Book(\"Sindh\", \"Ali\", \"0987654321\", \"available\")\n",
        "library.add_book(book1)\n",
        "library.add_book(book2)"
      ],
      "metadata": {
        "id": "W9uw5pUgtcCN"
      },
      "execution_count": 19,
      "outputs": []
    },
    {
      "cell_type": "code",
      "source": [
        "# Register members\n",
        "member1 = Member(\"Rashid\", \"M001\")\n",
        "member2 = Member(\"Ilyas\", \"M002\")\n",
        "library.register_member(member1)\n",
        "library.register_member(member2)\n",
        "\n"
      ],
      "metadata": {
        "id": "AVTo2E5z0jsy"
      },
      "execution_count": 20,
      "outputs": []
    },
    {
      "cell_type": "code",
      "source": [
        "# Display all books and members before any transactions\n",
        "print(\"Library books:\")\n",
        "library.display_all_books()\n",
        "print(\"\\nLibrary members:\")\n",
        "library.display_all_members()\n"
      ],
      "metadata": {
        "colab": {
          "base_uri": "https://localhost:8080/"
        },
        "id": "sMA1cOVY0yAW",
        "outputId": "0bb6bd9d-db4d-4ee2-d5eb-5c3e3cfc26e5"
      },
      "execution_count": 21,
      "outputs": [
        {
          "output_type": "stream",
          "name": "stdout",
          "text": [
            "Library books:\n",
            "Title: Pakistan, Author: Awais, ISBN: 1234567890, Status: available\n",
            "Title: Sindh, Author: Ali, ISBN: 0987654321, Status: available\n",
            "\n",
            "Library members:\n",
            "Member ID: M001, Name: Rashid, Borrowed Books: []\n",
            "Member ID: M002, Name: Ilyas, Borrowed Books: []\n"
          ]
        }
      ]
    },
    {
      "cell_type": "code",
      "source": [
        "\n",
        "# Issue a book to a member\n",
        "library.issue_book(\"M001\", \"1234567890\")\n",
        "\n",
        "# Display all books and members after issuing a book\n",
        "print(\"\\nLibrary books after issuing a book:\")\n",
        "library.display_all_books()\n",
        "print(\"\\nLibrary members after issuing a book:\")\n",
        "library.display_all_members()\n",
        "\n",
        "# Return a book from a member\n",
        "library.return_book(\"M001\", \"1234567890\")\n",
        "\n",
        "# Display all books and members after returning a book\n",
        "print(\"\\nLibrary books after returning a book:\")\n",
        "library.display_all_books()\n",
        "print(\"\\nLibrary members after returning a book:\")\n",
        "library.display_all_members()"
      ],
      "metadata": {
        "colab": {
          "base_uri": "https://localhost:8080/"
        },
        "id": "KqrEHpy701BR",
        "outputId": "9cc7e664-bf99-4bdd-d861-1ad6f7af7e84"
      },
      "execution_count": 22,
      "outputs": [
        {
          "output_type": "stream",
          "name": "stdout",
          "text": [
            "\n",
            "Library books after issuing a book:\n",
            "Title: Pakistan, Author: Awais, ISBN: 1234567890, Status: borrowed\n",
            "Title: Sindh, Author: Ali, ISBN: 0987654321, Status: available\n",
            "\n",
            "Library members after issuing a book:\n",
            "Member ID: M001, Name: Rashid, Borrowed Books: [Pakistan]\n",
            "Member ID: M002, Name: Ilyas, Borrowed Books: []\n",
            "\n",
            "Library books after returning a book:\n",
            "Title: Pakistan, Author: Awais, ISBN: 1234567890, Status: available\n",
            "Title: Sindh, Author: Ali, ISBN: 0987654321, Status: available\n",
            "\n",
            "Library members after returning a book:\n",
            "Member ID: M001, Name: Rashid, Borrowed Books: []\n",
            "Member ID: M002, Name: Ilyas, Borrowed Books: []\n"
          ]
        }
      ]
    },
    {
      "cell_type": "code",
      "source": [],
      "metadata": {
        "id": "WOTiTFSA03r6"
      },
      "execution_count": null,
      "outputs": []
    }
  ]
}
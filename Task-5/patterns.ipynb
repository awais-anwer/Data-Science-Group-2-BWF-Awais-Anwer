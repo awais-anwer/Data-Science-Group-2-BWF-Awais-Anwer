{
  "nbformat": 4,
  "nbformat_minor": 0,
  "metadata": {
    "colab": {
      "provenance": []
    },
    "kernelspec": {
      "name": "python3",
      "display_name": "Python 3"
    },
    "language_info": {
      "name": "python"
    }
  },
  "cells": [
    {
      "cell_type": "markdown",
      "source": [
        "### Pattern 1"
      ],
      "metadata": {
        "id": "dsqzA6w8W5o5"
      }
    },
    {
      "cell_type": "code",
      "execution_count": 17,
      "metadata": {
        "colab": {
          "base_uri": "https://localhost:8080/"
        },
        "id": "rxwPizOMK_2T",
        "outputId": "cb03db37-10d2-48ff-9a45-6670647a3d0e"
      },
      "outputs": [
        {
          "output_type": "stream",
          "name": "stdout",
          "text": [
            "Enter the number of rows: 7\n",
            "* \n",
            "* * \n",
            "* * * \n",
            "* * * * \n",
            "* * * * * \n",
            "* * * * * * \n",
            "* * * * * * * \n"
          ]
        }
      ],
      "source": [
        "rows = int(input(\"Enter the number of rows: \"))\n",
        "for i in range(1, rows + 1):\n",
        "    for j in range(1, i + 1):\n",
        "        print(\"*\", end=\" \")\n",
        "    print()"
      ]
    },
    {
      "cell_type": "markdown",
      "source": [
        "### Pattern no: 02"
      ],
      "metadata": {
        "id": "1Hcn_6kXZJc5"
      }
    },
    {
      "cell_type": "code",
      "source": [
        "rows = int(input(\"Enter the number of rows: \"))\n",
        "i = 1\n",
        "while i <= rows:\n",
        "  #print the blanks\n",
        "  no_of_blanks = rows - i\n",
        "  while no_of_blanks > 0:\n",
        "    print(\" \", end=\"\")\n",
        "    no_of_blanks = no_of_blanks - 1\n",
        "\n",
        "  #print the stars\n",
        "  no_of_stars = 2 * i - 1\n",
        "  while no_of_stars > 0:\n",
        "    print(\"*\", end=\"\")\n",
        "    no_of_stars = no_of_stars - 1\n",
        "\n",
        "  print()\n",
        "  i += 1"
      ],
      "metadata": {
        "id": "HJsKY-SVLpUa",
        "colab": {
          "base_uri": "https://localhost:8080/"
        },
        "outputId": "a71ff7d1-6ba5-431d-e2a3-6566003f0e99"
      },
      "execution_count": 21,
      "outputs": [
        {
          "output_type": "stream",
          "name": "stdout",
          "text": [
            "Enter the number of rows: 10\n",
            "         *\n",
            "        ***\n",
            "       *****\n",
            "      *******\n",
            "     *********\n",
            "    ***********\n",
            "   *************\n",
            "  ***************\n",
            " *****************\n",
            "*******************\n"
          ]
        }
      ]
    },
    {
      "cell_type": "markdown",
      "source": [
        "### Pattern no: 03"
      ],
      "metadata": {
        "id": "zPMt3bN2ZRPx"
      }
    },
    {
      "cell_type": "code",
      "source": [
        "rows = int(input(\"Enter the number of rows: \"))\n",
        "i = rows\n",
        "while i >= 1:\n",
        "  #print the blanks\n",
        "  no_of_blanks = rows - i\n",
        "  while no_of_blanks > 0:\n",
        "    print(\" \", end=\"\")\n",
        "    no_of_blanks = no_of_blanks - 1\n",
        "\n",
        "  #print the stars\n",
        "  no_of_stars = 2 * i - 1\n",
        "  while no_of_stars > 0:\n",
        "    print(\"*\", end=\"\")\n",
        "    no_of_stars = no_of_stars - 1\n",
        "\n",
        "  print()\n",
        "  i -= 1"
      ],
      "metadata": {
        "colab": {
          "base_uri": "https://localhost:8080/"
        },
        "id": "hXl7cmnqZS72",
        "outputId": "22fbb140-956c-4bc8-9ab7-970ef4814ffe"
      },
      "execution_count": 22,
      "outputs": [
        {
          "output_type": "stream",
          "name": "stdout",
          "text": [
            "Enter the number of rows: 10\n",
            "*******************\n",
            " *****************\n",
            "  ***************\n",
            "   *************\n",
            "    ***********\n",
            "     *********\n",
            "      *******\n",
            "       *****\n",
            "        ***\n",
            "         *\n"
          ]
        }
      ]
    },
    {
      "cell_type": "markdown",
      "source": [
        "### Pattern no: 04"
      ],
      "metadata": {
        "id": "6tGn9DnVaDD-"
      }
    },
    {
      "cell_type": "code",
      "source": [
        "rows = int(input(\"Enter the number of rows: \"))\n",
        "count = 1\n",
        "for i in range(1, rows + 1):\n",
        "    for j in range(1, i + 1):\n",
        "        print(count, end=\" \")\n",
        "        count += 1\n",
        "    print()"
      ],
      "metadata": {
        "colab": {
          "base_uri": "https://localhost:8080/"
        },
        "id": "zJuAnhpUaGAV",
        "outputId": "8a4ea0bc-d933-4394-f4b9-55858e09b402"
      },
      "execution_count": 23,
      "outputs": [
        {
          "output_type": "stream",
          "name": "stdout",
          "text": [
            "Enter the number of rows: 8\n",
            "1 \n",
            "2 3 \n",
            "4 5 6 \n",
            "7 8 9 10 \n",
            "11 12 13 14 15 \n",
            "16 17 18 19 20 21 \n",
            "22 23 24 25 26 27 28 \n",
            "29 30 31 32 33 34 35 36 \n"
          ]
        }
      ]
    },
    {
      "cell_type": "markdown",
      "source": [
        "### Pattern no: 05"
      ],
      "metadata": {
        "id": "gGFOtGdYa1UQ"
      }
    },
    {
      "cell_type": "code",
      "source": [
        "rows = int(input(\"Enter the number of rows: \"))\n",
        "i = 1\n",
        "while i <= rows:\n",
        "  #print the blanks\n",
        "  no_of_blanks = rows - i\n",
        "  while no_of_blanks > 0:\n",
        "    print(\" \", end=\"\")\n",
        "    no_of_blanks = no_of_blanks - 1\n",
        "\n",
        "  #print the stars\n",
        "  no_of_letters = 2 * i - 1\n",
        "  for j in range(no_of_letters):\n",
        "    print(chr(65 + j), end=\"\")\n",
        "\n",
        "  print()\n",
        "  i += 1"
      ],
      "metadata": {
        "colab": {
          "base_uri": "https://localhost:8080/"
        },
        "id": "ouDR1czPa43h",
        "outputId": "05129fb4-279b-4062-c52e-54e3ad5b0ef7"
      },
      "execution_count": 31,
      "outputs": [
        {
          "output_type": "stream",
          "name": "stdout",
          "text": [
            "Enter the number of rows: 10\n",
            "         A\n",
            "        ABC\n",
            "       ABCDE\n",
            "      ABCDEFG\n",
            "     ABCDEFGHI\n",
            "    ABCDEFGHIJK\n",
            "   ABCDEFGHIJKLM\n",
            "  ABCDEFGHIJKLMNO\n",
            " ABCDEFGHIJKLMNOPQ\n",
            "ABCDEFGHIJKLMNOPQRS\n"
          ]
        }
      ]
    },
    {
      "cell_type": "code",
      "source": [],
      "metadata": {
        "id": "CjvofSprkUFy"
      },
      "execution_count": null,
      "outputs": []
    }
  ]
}